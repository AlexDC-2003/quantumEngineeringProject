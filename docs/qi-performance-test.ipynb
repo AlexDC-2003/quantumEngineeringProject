{
 "cells": [
  {
   "cell_type": "markdown",
   "metadata": {},
   "source": [
    "# Quantum Inspire performance test\n",
    "\n",
    "We compare performance of the simulator with the circuit from \n",
    "\n",
    "\"Overview and Comparison of Gate Level Quantum Software Platforms\", https://arxiv.org/abs/1807.02500\n",
    "\n",
    "Pieter Eendebak <pieter.eendebak@tno.nl>"
   ]
  },
  {
   "cell_type": "markdown",
   "metadata": {},
   "source": [
    "# Define the circuit"
   ]
  },
  {
   "cell_type": "code",
   "execution_count": 1,
   "metadata": {},
   "outputs": [],
   "source": [
    "import time\n",
    "import numpy as np\n",
    "from getpass import getpass\n",
    "from IPython.display import display\n",
    "\n",
    "from qiskit import QuantumCircuit, ClassicalRegister, QuantumRegister, execute\n",
    "from qiskit.tools.visualization import plot_state, plot_histogram, circuit_drawer\n",
    "\n",
    "from quantuminspire.qiskit.quantum_inspire_provider import QuantumInspireProvider"
   ]
  },
  {
   "cell_type": "code",
   "execution_count": 2,
   "metadata": {},
   "outputs": [],
   "source": [
    "def format_vector(state_vector, decimal_precision=7):\n",
    "    \"\"\" Format the state vector into a LaTeX formatted string.\n",
    "\n",
    "    Args:\n",
    "        state_vector (list or array): The state vector with complex\n",
    "                                      values e.g. [-1, 2j+1].\n",
    "\n",
    "    Returns:\n",
    "        str: The LaTeX format.\n",
    "    \"\"\"\n",
    "    result = []\n",
    "    epsilon = 1/pow(10, decimal_precision)\n",
    "    bit_length = (len(state_vector) - 1).bit_length()\n",
    "    for index, complex_value in enumerate(state_vector):\n",
    "        has_imag_part = np.round(complex_value.imag, decimal_precision) != 0.0\n",
    "        value = complex_value if has_imag_part else complex_value.real\n",
    "        value_round = np.round(value, decimal_precision)\n",
    "        if np.abs(value_round) < epsilon:\n",
    "            continue\n",
    "\n",
    "        binary_state = '{0:0{1}b}'.format(index, bit_length)\n",
    "        result.append(r'{0:+2g}\\left\\lvert {1}\\right\\rangle '.format(value_round, binary_state))\n",
    "    return ''.join(result)"
   ]
  },
  {
   "cell_type": "markdown",
   "metadata": {},
   "source": [
    "We define the circuit based on the number of qubits and the depth (e.g. the number of iterations of the unit building block)."
   ]
  },
  {
   "cell_type": "code",
   "execution_count": 3,
   "metadata": {},
   "outputs": [
    {
     "name": "stderr",
     "output_type": "stream",
     "text": [
      "WARNING: Unable to compile latex. Is `pdflatex` installed? Skipping latex circuit drawing...\n"
     ]
    },
    {
     "data": {
      "text/plain": [
       "None"
      ]
     },
     "metadata": {},
     "output_type": "display_data"
    },
    {
     "data": {
      "image/png": "[encoded data removed]",
      "text/plain": [
       "<Figure size 722.4x499.66 with 1 Axes>"
      ]
     },
     "metadata": {},
     "output_type": "display_data"
    }
   ],
   "source": [
    "def pcircuit(nqubits, depth = 10):\n",
    "    \"\"\" Circuit to test performance of quantum computer \"\"\"\n",
    "    q = QuantumRegister(nqubits)\n",
    "    ans = ClassicalRegister(nqubits)\n",
    "    qc = QuantumCircuit(q, ans)\n",
    "\n",
    "    for level in range(depth):\n",
    "        for qidx in range(nqubits):\n",
    "            qc.h( q[qidx] )\n",
    "        qc.barrier()\n",
    "        for qidx in range(nqubits):\n",
    "            qc.rx(np.pi/2, q[qidx])\n",
    "        qc.barrier()\n",
    "            \n",
    "        for qidx in range(nqubits):\n",
    "            if qidx!=0:\n",
    "                qc.cx(q[qidx], q[0])\n",
    "    for qidx in range(nqubits):\n",
    "        qc.measure(q[qidx], ans[qidx])\n",
    "    return q, qc\n",
    "\n",
    "q,qc = pcircuit(4, 1)\n",
    "cplot = circuit_drawer(qc)\n",
    "display(cplot)"
   ]
  },
  {
   "cell_type": "markdown",
   "metadata": {},
   "source": [
    "# Run the cirquit on the Quantum Inspire simulator"
   ]
  },
  {
   "cell_type": "markdown",
   "metadata": {},
   "source": [
    "First we make a connection to the Quantum Inspire website."
   ]
  },
  {
   "cell_type": "code",
   "execution_count": 4,
   "metadata": {},
   "outputs": [
    {
     "name": "stdout",
     "output_type": "stream",
     "text": [
      "Enter username\n",
      "saevar\n",
      "Enter password\n",
      "········\n"
     ]
    }
   ],
   "source": [
    "try:\n",
    "    passwd\n",
    "except:\n",
    "    print('Enter username')\n",
    "    username = input();\n",
    "    print('Enter password')\n",
    "    passwd = getpass();\n",
    "\n",
    "uri = r'https://api.quantum-inspire.com/'\n",
    "\n",
    "qi_provider = QuantumInspireProvider()\n",
    "qi_provider.set_authentication_details(username, passwd, uri)"
   ]
  },
  {
   "cell_type": "markdown",
   "metadata": {},
   "source": [
    "We create a QisKit backend for the Quantum Inspire interface and execute the circuit generated above."
   ]
  },
  {
   "cell_type": "code",
   "execution_count": 5,
   "metadata": {},
   "outputs": [],
   "source": [
    "qi_backend = qi_provider.get_backend('QX single-node simulator')  \n",
    "job = execute(qc, qi_backend)"
   ]
  },
  {
   "cell_type": "markdown",
   "metadata": {},
   "source": [
    "We can wait for the results and then print them"
   ]
  },
  {
   "cell_type": "code",
   "execution_count": 6,
   "metadata": {},
   "outputs": [
    {
     "name": "stdout",
     "output_type": "stream",
     "text": [
      "Generated histogram:\n",
      "{'1101': 62.0, '1011': 71.0, '0111': 70.0, '1100': 75.0, '0101': 53.0, '0001': 65.0, '1001': 56.0, '1010': 74.0, '1111': 63.0, '0110': 71.0, '0000': 64.0, '0100': 63.0, '1000': 70.0, '0011': 57.0, '1110': 54.0, '0010': 56.0}\n"
     ]
    }
   ],
   "source": [
    "result = job.result()\n",
    "print('Generated histogram:')\n",
    "print(result.get_counts())"
   ]
  },
  {
   "cell_type": "markdown",
   "metadata": {},
   "source": [
    "Visualization can be done with the normal Python plotting routines, or with the QisKit SDK."
   ]
  },
  {
   "cell_type": "code",
   "execution_count": 7,
   "metadata": {},
   "outputs": [
    {
     "data": {
      "image/png": "[encoded data removed]",
      "text/plain": [
       "<Figure size 432x288 with 1 Axes>"
      ]
     },
     "metadata": {
      "needs_background": "light"
     },
     "output_type": "display_data"
    }
   ],
   "source": [
    "plot_histogram(result.get_counts(qc))"
   ]
  },
  {
   "cell_type": "markdown",
   "metadata": {},
   "source": [
    "To compare we will run the circuit with 20 qubits and depth 20. This takes:\n",
    "\n",
    "* QisKit: 3.7 seconds\n",
    "* ProjectQ: 2.0 seconds"
   ]
  },
  {
   "cell_type": "markdown",
   "metadata": {},
   "source": [
    "Our simulator runs for multiple shots (unless full state projection is used). More details will follow later."
   ]
  },
  {
   "cell_type": "code",
   "execution_count": 8,
   "metadata": {},
   "outputs": [
    {
     "name": "stdout",
     "output_type": "stream",
     "text": [
      "time needed: 8.1 [s]\n"
     ]
    }
   ],
   "source": [
    "q, qc = pcircuit(10, 10)\n",
    "start_time = time.time()\n",
    "\n",
    "job = execute(qc, qi_backend, shots=8)\n",
    "job.result()\n",
    "interval = time.time() - start_time\n",
    "\n",
    "print('time needed: %.1f [s]' % (interval,))"
   ]
  }
 ],
 "metadata": {
  "anaconda-cloud": {},
  "kernelspec": {
   "display_name": "Python 3",
   "language": "python",
   "name": "python3"
  },
  "language_info": {
   "codemirror_mode": {
    "name": "ipython",
    "version": 3
   },
   "file_extension": ".py",
   "mimetype": "text/x-python",
   "name": "python",
   "nbconvert_exporter": "python",
   "pygments_lexer": "ipython3",
   "version": "3.6.6"
  },
  "latex_envs": {
   "bibliofile": "biblio.bib",
   "cite_by": "apalike",
   "current_citInitial": 1,
   "eqLabelWithNumbers": true,
   "eqNumInitial": 0
  },
  "nav_menu": {},
  "toc": {
   "navigate_menu": true,
   "number_sections": true,
   "sideBar": true,
   "threshold": 6,
   "toc_cell": false,
   "toc_section_display": "block",
   "toc_window_display": false
  }
 },
 "nbformat": 4,
 "nbformat_minor": 1
}
