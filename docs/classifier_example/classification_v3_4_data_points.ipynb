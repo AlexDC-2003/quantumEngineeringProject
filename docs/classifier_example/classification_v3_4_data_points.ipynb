{
 "cells": [
  {
   "cell_type": "markdown",
   "metadata": {},
   "source": [
    "# <center> A Quantum distance-based classifier </center>#\n",
    "## <center> Robert Wezeman, TNO </center> ##"
   ]
  },
  {
   "cell_type": "markdown",
   "metadata": {},
   "source": [
    "<a name=\"contents\"></a>\n",
    "# Table of Contents\n",
    "* [Introduction](#introduction)\n",
    "* [Problem](#problem)\n",
    "* [Theory](#theory)\n",
    "* [Algorithm](#algorithm)\n",
    "* [Implementation](#implementation)\n",
    "* [Conclusion and further work](#conclusion)"
   ]
  },
  {
   "cell_type": "markdown",
   "metadata": {},
   "source": [
    "$$ \\newcommand{\\ket}[1]{\\left|{#1}\\right\\rangle} $$"
   ]
  },
  {
   "cell_type": "code",
   "execution_count": 1,
   "metadata": {},
   "outputs": [],
   "source": [
    "## Import external python file\n",
    "import nbimporter\n",
    "from data_preprocessing_class import DataPlotter  # for easier plotting \n",
    "\n",
    "# Import math functions \n",
    "from math import acos, pi\n",
    "from numpy import sign\n",
    "get_bin = lambda x, n: format(int(x), 'b').zfill(n)\n",
    "\n",
    "# Import plotting tools\n",
    "import matplotlib.pyplot as plt"
   ]
  },
  {
   "cell_type": "markdown",
   "metadata": {},
   "source": [
    "<a name=\"introduction\"></a>\n",
    "# Introduction #\n",
    "\n",
    "\n",
    "In the [previous part](link) of this notebook series on a distance-based classifier, we looked at how to implement a distance-based classifier on the quantum inspire using QASM code. We looked at the simplest possible case, that is: using two data points, each with two features, to assign a label (classify) to a random test point, see image. In this notebook we will extend the previous classifier, by increasing the number of data points to four. In this notebook we demonstrate how to use the projectQ framework to do this. \n",
    "\n",
    "<img src=\"images/4pointsclassifier.png\">\n",
    "\n",
    "\n",
    "\n",
    "[Back to Table of Contents](#contents)"
   ]
  },
  {
   "cell_type": "markdown",
   "metadata": {},
   "source": [
    "<a name=\"problem\"></a>\n",
    "# Problem #\n",
    "Again we have the following binary classification problem: Given the data set \n",
    "$$\\mathcal{D} = \\Big\\{ ({\\bf x}_1, y_1), \\ldots ({\\bf x}_M , y_M)  \\Big\\},$$\n",
    "consisting of $M$ data points $x_i\\in\\mathbb{R}^n$ and corresponding labels $y_i\\in \\{-1, 1\\}$, give a prediction for the label $\\tilde{y}$ corresponding to an unlabeled data point $\\bf\\tilde{x}$. The classifier we shall implement with our quantum circuit is a distance-based classifier and is given by\n",
    "\\begin{equation}\\newcommand{\\sgn}{{\\rm sgn}}\\newcommand{\\abs}[1]{\\left\\lvert#1\\right\\rvert}\\label{eq:classifier} \\tilde{y} = \\sgn\\left(\\sum_{m=0}^{M-1} y_m \\left[1-\\frac{1}{4M}\\abs{{\\bf\\tilde{x}}-{\\bf x}_m}^2\\right]\\right). \\hspace{3cm} (1)\\end{equation}\n",
    "\n",
    "This is a typical $M$-nearest-neighbor model where each data point is given a weight related to the distance measure. To implement this classifier on a quantum computer we use amplitude encoding. For the details see the previous notebook.\n",
    "\n",
    "[Back to Contents](#contents)"
   ]
  },
  {
   "cell_type": "markdown",
   "metadata": {},
   "source": [
    "<a name=\"theory\"></a>\n",
    "# Theory #\n",
    "\n",
    "<a name=\"state\"></a>\n",
    "The algorithm requires a $n$-qubit quantum system to be in the following state initially \n",
    "\\begin{equation}\\label{eq:prepstate}\n",
    "    \\ket{\\mathcal{D}} = \\frac{1}{\\sqrt{2M}} \\sum_{m=0}^{M-1} \\ket{m}\\Big(\\ket{0}\\ket{\\psi_{\\bf\\tilde{{x}}}} + \\ket{1}\\ket{\\psi_{\\bf{x}_m}}\\Big)\\ket{y_m}.\\hspace{3cm} (2)\n",
    "\\end{equation}\n",
    "\n",
    "Here $\\ket{m}$ is the $m^{th}$ state of the computational basis used to keep track of the $m^{th}$ training input. The second register is a single ancillary qubit entangled with the third register. The excited state of the ancillary qubit is entangled with the $m^{th}$ training state $\\ket{\\psi_{{x}_m}}$, while the ground state is entangled with the new input state $\\ket{\\psi_{\\tilde{x}}}$. The last register encodes the label of the $m^{th}$ training data point by\n",
    "\\begin{equation}\n",
    "\\begin{split}\n",
    "    y_m = -1 \\Longleftrightarrow& \\ket{y_m} = \\ket{0},\\\\\n",
    "    y_m = 1 \\Longleftrightarrow& \\ket{y_m} = \\ket{1}.\n",
    "\\end{split}\n",
    "\\end{equation}\n",
    "Once in this state the algorithm only consists of the following three operations:\n",
    "\n",
    "1. Apply a Hadamard gate on the second register.\n",
    "  \n",
    "2. Measure the second register. We restart the algorithm if we measure a $\\ket{1}$ and only continue when we are in the $\\ket{0}$ branch.\n",
    "\n",
    "3. Measure the last qubit $\\ket{y_m}$.\n",
    "\n",
    "In the special case where the amount of training data for both labels is the same, this last measurement relates to the classifier as described in previous section by\n",
    "\\begin{equation}\n",
    "\\tilde{y} = \\left\\{\n",
    "  \\begin{array}{lr}\n",
    "    -1 & : p(q_4 = 0 ) > p(q_4 = 1)\\\\\n",
    "    +1 & : p(q_4 = 0 ) < p(q_4 = 1)\n",
    "  \\end{array}\n",
    "\\right.    \n",
    "\\end{equation}\n",
    "By setting $\\tilde{y}$ to be the most likely outcome of many measurement shots, we obtain the desired distance-based classifier.\n",
    "\n",
    "In the previous notebook we saw the implementation for $N=2$ data points, each with $M=2$ features. Now we will consider the case for two datapoints with $M=4$ features.\n",
    "\n",
    "[Back to Table of Contents](#contents)"
   ]
  },
  {
   "cell_type": "markdown",
   "metadata": {},
   "source": [
    "<a name=\"algorithm\"></a>\n",
    "# Algorithm #\n",
    "\n",
    "To describe the desired initial state for $M = 4$ and $N = 2$ we need 5 qubits:\n",
    "* Two qubits for the index register $\\ket{m}$\n",
    "* One ancillary qubit\n",
    "* One qubit to store the information of the two features of the data points \n",
    "* One qubit to store the information of the classes of the data points\n",
    "\n",
    "Furthermore, these $4$ require us to implement a triple controlled-$R_y$ gate, or $CCCR_y$. ProjectQ does this automatically for us, at the cost of two extra ancillary qubits, resulting in a total of 7 qubits. The algorithm is divided in different parts:\n",
    "\n",
    "\n",
    "* **Part A:** In this part the index register is initialized, as is the ancillary qubit. Part A consists of three Hadamard gates. After this step the system is in the state\n",
    "$$\\ket{\\mathcal{D}_A} =\\frac{1}{\\sqrt{8}} \\sum_{m=0}^{3}\\ket{m}\\Big(\\ket{0}+\\ket{1}\\Big)\\ket{0}\\ket{0} $$\n",
    "<img src=\"images/images4points/parta.png\">\n",
    "* **Part B:** In this part we encode the unlabeled data point $\\bf\\tilde{x}$ by means of a controlled rotation. The encoding of the data will first require some preprocessing on the data, see the previous notebook for the details. We entangle the fourth qubit with the ancillary qubit. The angle $\\theta$ of the rotation should be chosen such that ${\\bf\\tilde{x}}=R_y(\\theta)\\ket{0}$. After this step the system is in the state\n",
    "$$\\ket{\\mathcal{D}_B} =\\frac{1}{\\sqrt{8}} \\sum_{m=0}^{3}\\ket{m}\\Big(\\ket{0}\\ket{\\tilde{{\\bf x}}}+\\ket{1}\\ket{0}\\Big)\\ket{0}$$\n",
    "<img src=\"images/images4points/partb.png\">\n",
    "* **Part C:** In this step the encoding of the data points $\\bf x_m$ is done. So far it has been almost analogous to the $M =2$ case, however, this step is a bit more involved. First, use a $CCCR_y$-rotation so that the datapoint $\\bf x_m$ is connected to $\\ket{m} = \\ket{11}$ and entangled with the ancillary qubit $\\ket{1}$. Next, we rotate $\\ket{m}$ cyclic around such that we can reuse this $CCCR_y$-rotation for next data point, see the figure\n",
    "\\begin{equation}\n",
    "C2 : \\hspace{1cm}\\ldots \\rightarrow \\ket{00} \\rightarrow \\ket{01} \\rightarrow \\ket{10}\\rightarrow \\ket{11} \\rightarrow \\ldots\n",
    "\\end{equation}\n",
    "<img src=\"images/images4points/partc.png\">\n",
    "After doing step $C1$ four times with the right angles(${\\bf x_m}=R_y\\ket{0}$) and in the right order alternated with step $C2$ the system will be in the state\n",
    "$$\\ket{\\mathcal{D}_C} =\\frac{1}{\\sqrt{8}} \\sum_{m=0}^{3}\\ket{m}\\Big(\\ket{0}\\ket{\\tilde{{\\bf x}}}+\\ket{1}\\ket{\\bf x_m}\\Big)\\ket{0}$$\n",
    "* **Part D:** In this part we encode the known labels of the data in the last qubit. This can be done easily using a Toffoli-gate with the controls on the first two qubits and the target on the fifth. Note that this requires only one rotation through $\\ket{m}$ of the labels if we choose the data points such that the two points labeled with $y_m = 1$ are $\\ket{00}$ and $\\ket{11}$. The combination of twice circuit $D1$ with circuit $D2$ inbetween does the job. The desired state is now produced:\n",
    "\\begin{equation}\n",
    "    \\ket{\\mathcal{D}_D} = \\frac{1}{\\sqrt{8}} \\sum_{m=0}^{3} \\ket{m}\\Big(\\ket{0}\\ket{\\bf\\tilde{{x}}} + \\ket{1}\\ket{\\bf{x}_m}\\Big)\\ket{y_m}.\n",
    "\\end{equation}\n",
    "<img src=\"images/images4points/partd.png\">\n",
    "\n",
    "* **Part E:** In this part the actual distance-based classifier part of the algorithm is done. This part is independent of number of data points, which is precisely the strength of this quantum classifier. This step consists of a simple Hadamard-gate. Results are then obtained by post-processing the measurement results.\n",
    "<img src=\"images/images4points/parte.png\">\n",
    "\n",
    "[Back to Table of Contents](#contents)"
   ]
  },
  {
   "cell_type": "markdown",
   "metadata": {},
   "source": [
    "<a name=\"implementation\"></a>\n",
    "# Implementation #\n",
    "We will implement the above algorithm using the projectQ framework. First we need to import some modules and set up the  authentication for connecting to the Quantum Inspire API."
   ]
  },
  {
   "cell_type": "code",
   "execution_count": 2,
   "metadata": {},
   "outputs": [
    {
     "name": "stdout",
     "output_type": "stream",
     "text": [
      "Enter email:\n",
      "demo@quantum-inspire.com\n",
      "Enter password\n",
      "········\n"
     ]
    }
   ],
   "source": [
    "# Imports for authentication with Quantum Inspire API\n",
    "from getpass import getpass\n",
    "from coreapi.auth import BasicAuthentication\n",
    "\n",
    "# Import the projectQ backend from the Quantum Inspire\n",
    "from quantuminspire.api import QuantumInspireAPI\n",
    "from quantuminspire.projectq.backend_qx import QIBackend\n",
    "\n",
    "# Import projectQ \n",
    "from projectq import MainEngine\n",
    "from projectq.backends import ResourceCounter\n",
    "from projectq.cengines import ManualMapper\n",
    "from projectq.meta import Compute, Control, Loop, Uncompute\n",
    "from projectq.ops import CNOT, All, H, Measure, Toffoli, X, Z, CZ, Ry, C\n",
    "from projectq.setups import restrictedgateset\n",
    "\n",
    "\n",
    "def get_authentication():\n",
    "    \"\"\" Gets the authentication for connecting to the Quantum Inspire API.\"\"\"\n",
    "    if 'password' not in vars().keys():\n",
    "        print('Enter email:')\n",
    "        email = input()\n",
    "        print('Enter password')\n",
    "        password = getpass()\n",
    "    return BasicAuthentication(email, password)\n",
    "\n",
    "# Remote Quantum-Inspire backend #\n",
    "authentication = get_authentication()"
   ]
  },
  {
   "cell_type": "markdown",
   "metadata": {},
   "source": [
    "Before we consider the four point classifier, let us first review the 2 point classifier again. Consider the following data points from the Iris flower dataset:\n",
    "\\begin{equation}\n",
    "    \\begin{split}\n",
    "        &\\ket{\\psi_{\\tilde{x}}}  = \\;\\;\\;0.9999 \\ket{0} -0.0011\\ket{1}, \\hspace{2cm}y = 1,\\\\\n",
    "        &\\ket{\\psi_{x_0}}  = -0.4583  \\ket{0} - 0.8889\\ket{1}, \\hspace{2cm}y = 1,\\\\        \n",
    "        &\\ket{\\psi_{x_1}}  = -0.3728 \\ket{0} +0.9279\\ket{1}, \\hspace{2cm}y = 0.\n",
    "    \\end{split}\n",
    "\\end{equation}\n",
    "\n",
    "The code for this implementation is shown below and treated in detail in the previous notebook. "
   ]
  },
  {
   "cell_type": "code",
   "execution_count": 3,
   "metadata": {},
   "outputs": [
    {
     "name": "stdout",
     "output_type": "stream",
     "text": [
      "{'1101': 0.2657933, '0100': 0.2355381, '0110': 0.1109331, '0010': 0.1043719, '1011': 0.1019124, '1111': 0.0956278, '0000': 0.0491568, '1001': 0.0366663}\n"
     ]
    },
    {
     "data": {
      "image/png": "[encoded data removed]",
      "text/plain": [
       "<Figure size 1152x432 with 1 Axes>"
      ]
     },
     "metadata": {
      "needs_background": "light"
     },
     "output_type": "display_data"
    },
    {
     "data": {
      "image/png": "[encoded data removed]",
      "text/plain": [
       "<Figure size 576x432 with 1 Axes>"
      ]
     },
     "metadata": {
      "needs_background": "light"
     },
     "output_type": "display_data"
    }
   ],
   "source": [
    "## 2 points distance-based classifier ##\n",
    "\n",
    "# Set-up a new connection with qi_backend:\n",
    "def initialize_qi_backend(project_name = \"distance_based_classifier\"):\n",
    "    compiler_engines = restrictedgateset.get_engine_list(one_qubit_gates=\"any\", two_qubit_gates=(CNOT, CZ, Toffoli))\n",
    "    compiler_engines.extend([ResourceCounter(), ManualMapper(lambda x: x)])\n",
    "    qi = QuantumInspireAPI(\n",
    "        r'https://api.quantum-inspire.com/',\n",
    "        authentication,\n",
    "        project_name = project_name  # Set project name to save projects\n",
    "    ) \n",
    "    qi_backend = QIBackend(num_runs = 1, quantum_inspire_api=qi) # set num_runs = 1 for true probability distribution\n",
    "    qi_engine = MainEngine(backend=qi_backend, engine_list=compiler_engines)\n",
    "    return qi_backend, qi_engine\n",
    "\n",
    "qi_backend, qi_engine = initialize_qi_backend(\"distance_based_classifier_2_points\")\n",
    "# Data points:\n",
    "x_tilde = [0.9999, -0.0011] # Label 1\n",
    "x0 = [-0.4583, -0.8889]     # Label 1\n",
    "x1 = [-0.3728, 0.9279]      # Label 0\n",
    "\n",
    "# Angles data points:\n",
    "angle_x_tilde = 2 * acos(x_tilde[0]) * sign(x_tilde[1]) # Label 1\n",
    "angle_x0 = 2 * acos(x0[0]) * sign(x0[1])                # Label 1\n",
    "angle_x1 = 2 * acos(x1[0]) * sign(x1[1])                # Label 0\n",
    "\n",
    "# Quantum circuit:\n",
    "qubits = qi_engine.allocate_qureg(4)\n",
    "\n",
    "# part_a\n",
    "for qubit in qubits[0:2]:\n",
    "    H | qubit\n",
    "\n",
    "# part_b\n",
    "C(Ry(angle_x_tilde), 1) | (qubits[1], qubits[2])\n",
    "X | qubits[1]\n",
    "\n",
    "# part_c\n",
    "C(Ry(angle_x1), 2) | (qubits[0], qubits[1], qubits[2])\n",
    "X | qubits[0]\n",
    "\n",
    "# part_d\n",
    "C(Ry(angle_x0), 2) | (qubits[0], qubits[1], qubits[2])\n",
    "\n",
    "# part_e\n",
    "CNOT | (qubits[0], qubits[3])\n",
    "\n",
    "# part_f\n",
    "H | qubits[1]\n",
    "\n",
    "qi_engine.flush()\n",
    "\n",
    "# Results:\n",
    "temp_results = qi_backend.get_probabilities(qubits)\n",
    "print(temp_results)  # Print the results in a dictionary\n",
    "prob = DataPlotter.plot_data_points(x_tilde,[x0], [x1], temp_results)  # Function to plot the data\n"
   ]
  },
  {
   "cell_type": "markdown",
   "metadata": {},
   "source": [
    "The classifier predicts the wrong label 0 for the test point with this combination of data points as:\n",
    "\\begin{equation}\n",
    "0.04 + 0.1043719 > 0.0366663 + 0.1019124  \\rightarrow \\text{Assign label 0 to } \\tilde{y}\n",
    "\\end{equation}\n",
    "The left figure gives intuition why the classifier fails to predict the correct label. For this specific combination of data points, the test point is closer to the data point with label 0 than to the data point with label 1. As the prediction is based on only these two data points, it is expected to give this wrong prediction. Note, this problem has nothing to do with the quantum computer used for the calculation. The same results would be obtained with a classical distance-based classifier. \n",
    "\n",
    "By adding two more data points, one for each label, we improve the classifier so that it is better able to give the right label as prediction. Add the following two points to the calculation:\n",
    "\\begin{equation}\n",
    "    \\begin{split}\n",
    "        &\\ket{\\psi_{x_2}}  = -0.3728 \\ket{0} +0.9279\\ket{1}, \\hspace{2cm}y = 1,\\\\\n",
    "        &\\ket{\\psi_{x_3}}  = -0.4583  \\ket{0} - 0.8889\\ket{1}, \\hspace{2cm}y = 0.\n",
    "    \\end{split}\n",
    "\\end{equation}\n",
    "\n",
    "Consider the quantum circuit for the four point classifier below."
   ]
  },
  {
   "cell_type": "code",
   "execution_count": 4,
   "metadata": {
    "scrolled": false
   },
   "outputs": [
    {
     "name": "stdout",
     "output_type": "stream",
     "text": [
      "{'01110': 0.2476628, '00011': 0.2373197, '11111': 0.1306251, '10110': 0.1200422, '10000': 0.0531932, '10100': 0.0531932, '11001': 0.0500852, '11101': 0.0500852, '10010': 0.023571, '11011': 0.019204, '00001': 0.0062575, '00101': 0.0062575, '01000': 0.0011657, '01100': 0.0011657, '00111': 0.000165, '01010': 5.5e-06} \n",
      "\n"
     ]
    },
    {
     "data": {
      "image/png": "[encoded data removed]",
      "text/plain": [
       "<Figure size 1152x432 with 1 Axes>"
      ]
     },
     "metadata": {
      "needs_background": "light"
     },
     "output_type": "display_data"
    },
    {
     "data": {
      "image/png": "[encoded data removed]",
      "text/plain": [
       "<Figure size 576x432 with 1 Axes>"
      ]
     },
     "metadata": {
      "needs_background": "light"
     },
     "output_type": "display_data"
    }
   ],
   "source": [
    "## 4 points distance-based classifier ##\n",
    "\n",
    "# Add the 2 new data points:\n",
    "x_tilde = [0.9999, -0.0011] # Label 1\n",
    "x0 = [-0.4583, -0.8889]    # Label 1\n",
    "x1 = [-0.3728, 0.9279]     # Label 0\n",
    "x2 = [-0.9886, 0.1503]     # Label 0\n",
    "x3 = [0.9530, 0.3028]      # Label 1\n",
    "\n",
    "def four_point_distance_based_classifier_circuit(x_tilde, x0, x1, x2, x3):\n",
    "    # Set-up a new connection with qi_backend:\n",
    "    qi_backend, qi_engine = initialize_qi_backend(\"distance_based_classifier_4_points\")\n",
    "    \n",
    "    # Angles data points:\n",
    "    angle_x_tilde = 2 * acos(x_tilde[0]) * sign(x_tilde[1])\n",
    "    angle_x0 = 2 * acos(x0[0]) * sign(x0[1])   # Label 1\n",
    "    angle_x1 = 2 * acos(x1[0]) * sign(x1[1])   # Label 0\n",
    "    angle_x2 = 2 * acos(x2[0]) * sign(x2[1])   # Label 0\n",
    "    angle_x3 = 2 * acos(x3[0]) * sign(x3[1])   # Label 1\n",
    "    \n",
    "    # Quantum circuit:\n",
    "    qubits = qi_engine.allocate_qureg(5)\n",
    "\n",
    "    # part_a\n",
    "    for qubit in qubits[0:3]:\n",
    "        H | qubit\n",
    "\n",
    "    # part_b\n",
    "    C(Ry(angle_x_tilde), 1) | (qubits[2], qubits[3])\n",
    "    X | qubits[3]\n",
    "\n",
    "    # part_c\n",
    "    for angle in [angle_x0, angle_x1, angle_x2]:\n",
    "        C(Ry(angle), 3) | (qubits[0], qubits[1], qubits[2], qubits[3]) #C1\n",
    "        CNOT | (qubits[1], qubits[0]) #C2\n",
    "        X | qubits[1]\n",
    "    C(Ry(angle_x3), 3) | (qubits[0], qubits[1], qubits[2], qubits[3]) #C1\n",
    "\n",
    "    # part_d\n",
    "    Toffoli | (qubits[0], qubits[1], qubits[4]) #D1\n",
    "    CNOT | (qubits[1], qubits[0]) #D2\n",
    "    X | qubits[1]\n",
    "    Toffoli | (qubits[0], qubits[1], qubits[4]) #D1\n",
    "\n",
    "    # part_e\n",
    "    H | qubits[2]\n",
    "\n",
    "    qi_engine.flush()\n",
    "    temp_results = qi_backend.get_probabilities(qubits)\n",
    "    \n",
    "    # Results:\n",
    "    temp_results = qi_backend.get_probabilities(qubits)\n",
    "    return temp_results \n",
    "\n",
    "temp_results = four_point_distance_based_classifier_circuit(x_tilde, x0, x1, x2, x3)\n",
    "print(temp_results, '\\n')\n",
    "prob = DataPlotter.plot_data_points(x_tilde, [x1, x2], [x0, x3], temp_results)  # Function to plot the data"
   ]
  },
  {
   "cell_type": "markdown",
   "metadata": {},
   "source": [
    "Just as we did in previous notebook, we need to count only those outcomes where the third qubit is equal to a 0. That is, we only consider the 16 outcomes in the set:  \n",
    "$$\\{00000, 01000, 10000, 11000, 00001, 01001, 10001, 11001, 00010, 01010, 10010, 11010, 00011, 01011, 10011, 11011\\}$$\n",
    "\n",
    "The label $\\tilde{y}$ is then given by a majority vote:\n",
    "\n",
    "\\begin{equation}\n",
    "\\begin{split}\n",
    "\\tilde{y}_{0} = \\# \\{00000, 01000, 10000, 11000, 00010, 01010, 10010, 11010\\}\\\\\n",
    "\\tilde{y}_{1} = \\#\\{00001, 01001, 10001, 11001, 00011, 01011, 10011, 11011\\}\n",
    "\\end{split}\n",
    "\\end{equation}\n",
    "\n",
    "\n",
    "\\begin{equation}\n",
    "\\tilde{y} = \\left\\{\n",
    "  \\begin{array}{lr}\n",
    "    -1 & : \\tilde{y}_{0} > \\tilde{y}_{1}\\\\\n",
    "    +1 & : \\tilde{y}_{1} > \\tilde{y}_{0}\n",
    "  \\end{array}\n",
    "\\right.    \n",
    "\\end{equation}\n"
   ]
  },
  {
   "cell_type": "code",
   "execution_count": 5,
   "metadata": {},
   "outputs": [
    {
     "name": "stdout",
     "output_type": "stream",
     "text": [
      "The sum of the events with label 0 is: 0.0779354\n",
      "The sum of the events with label 1 is: 0.3128664\n",
      "The label for y_tilde is: 1 because sum_label0 < sum_label1\n"
     ]
    }
   ],
   "source": [
    "def summarize_results_4_points(prob, display=1):\n",
    "    def get_label_0_1(n, index_0, index_label):\n",
    "        # n = number of qubits excluding ancillas\n",
    "        # index_0 = index of bit that should always be zero to continue\n",
    "        # index_label = index of bit that should be used to classify in label 0 and label 1\n",
    "        index_0 = [i for i in range(2**n) if (format(i, '#0{0}b'.format(2+n))[2+index_0] == '0')]\n",
    "        label0index = [i for i in index_0 if (format(i, '#0{0}b'.format(2+n))[2+index_label] == '0')]\n",
    "        label1index = [i for i in index_0 if (format(i, '#0{0}b'.format(2+n))[2+index_label] == '1')]\n",
    "        return label0index, label1index\n",
    "    label0indx, label1indx = get_label_0_1(5, 2, 4)\n",
    "    sum_label0 = 0\n",
    "    sum_label1 = 0\n",
    "    \n",
    "    for indx in label0indx:\n",
    "        sum_label0 += prob[indx]\n",
    "    for indx in label1indx:\n",
    "        sum_label1 += prob[indx]\n",
    "\n",
    "\n",
    "    def y_tilde():\n",
    "        if sum_label0 > sum_label1:\n",
    "            return 0, \">\"\n",
    "        elif sum_label0 < sum_label1:\n",
    "            return 1, \"<\"\n",
    "        else:\n",
    "            return \"undefined\", \"=\"\n",
    "    y_tilde_res, sign = y_tilde()\n",
    "    if display:\n",
    "        print(\"The sum of the events with label 0 is: {}\".format(sum_label0))\n",
    "        print(\"The sum of the events with label 1 is: {}\".format(sum_label1))\n",
    "        print(\"The label for y_tilde is: {} because sum_label0 {} sum_label1\".format(y_tilde_res, sign))\n",
    "    return y_tilde_res\n",
    "\n",
    "summarize_results_4_points(prob);"
   ]
  },
  {
   "cell_type": "markdown",
   "metadata": {},
   "source": [
    "By adding these two points we see that the classifier now gives the correct label for the test data. To see how well this 4-point distance-based classifier performs we also apply it to randomly selected training and test data. "
   ]
  },
  {
   "cell_type": "code",
   "execution_count": 6,
   "metadata": {},
   "outputs": [
    {
     "data": {
      "image/png": "[encoded data removed]",
      "text/plain": [
       "<Figure size 1152x432 with 1 Axes>"
      ]
     },
     "metadata": {
      "needs_background": "light"
     },
     "output_type": "display_data"
    },
    {
     "name": "stdout",
     "output_type": "stream",
     "text": [
      "The sum of the events with label 0 is: 0.1475683\n",
      "The sum of the events with label 1 is: 0.2614828\n",
      "The label for y_tilde is: 1 because sum_label0 < sum_label1\n"
     ]
    },
    {
     "data": {
      "image/png": "[encoded data removed]",
      "text/plain": [
       "<Figure size 576x432 with 1 Axes>"
      ]
     },
     "metadata": {
      "needs_background": "light"
     },
     "output_type": "display_data"
    }
   ],
   "source": [
    "# Get random data\n",
    "data_label_0, data_label_1, x_tilde, random_label = DataPlotter.grab_random_data(size=4)\n",
    "x1, x2 = data_label_0\n",
    "x0, x3 = data_label_1\n",
    "\n",
    "temp_results = four_point_distance_based_classifier_circuit(x_tilde, x0, x1, x2, x3)\n",
    "prob = DataPlotter.plot_data_points(x_tilde, data_label_0, data_label_1, temp_results)  # Function to plot the data\n",
    "summarize_results_4_points(prob);\n"
   ]
  },
  {
   "cell_type": "markdown",
   "metadata": {},
   "source": [
    "<a name=\"conclusion\"></a>\n",
    "# Conclusion and further work #\n",
    "\n",
    "In general, a distance-based classifier gets better in predicting classes once more data is included. In this notebook we showed how to extend the previous algorithm to 4 data points. We saw an example where the 2-point distance-based classifier fails to predict the right label, while, when extended to four data points, it managed to classify the test point correctly. This is what we expect classically, however, the key takeaway here is that the quantum algorithm itself (step f) did not change. It is independent of the size of dataset and it is from this that we can expect huge speedups.\n",
    "\n",
    "Extending the classifier to more data points is now analogus. Extending the classifier to $8$ data points will be a nice challenge for the reader to test their understanding, a solution is given below.\n",
    "\n",
    "In this notebook we used the projectQ backend to generate the quantum algorithm. Note that for controlled gate operations in generall ancillary qubits are required. ProjectQ code does not minimize the amount of ancillary qubits needed in the algorithm, this could be improved.  \n",
    "\n",
    "The next notebook in this series will look at how to include more than two features for the data. \n",
    "\n",
    "[Back to Table of Contents](#contents)"
   ]
  },
  {
   "cell_type": "markdown",
   "metadata": {},
   "source": [
    "### References ###\n",
    "* Book: [Schuld and Petruccione, Supervised learning with Quantum computers, 2018](https://www.springer.com/us/book/9783319964232)  \n",
    "* Article: [Schuld, Fingerhuth and Petruccione, Implementing a distance-based classifier with a quantum interference circuit, 2017](https://arxiv.org/abs/1703.10793)"
   ]
  },
  {
   "cell_type": "markdown",
   "metadata": {},
   "source": [
    "# Solution for 8 data points\n"
   ]
  },
  {
   "cell_type": "code",
   "execution_count": 7,
   "metadata": {},
   "outputs": [
    {
     "name": "stdout",
     "output_type": "stream",
     "text": [
      "{'111101': 0.1231232, '101101': 0.1222766, '000000': 0.1207775, '001101': 0.1176452, '011001': 0.0645239, '010100': 0.0486542, '110010': 0.0429794, '100010': 0.0428339, '010010': 0.0404546, '011111': 0.0354419, '100000': 0.0345132, '110100': 0.0315367, '110000': 0.0291179, '100100': 0.0263894, '110110': 0.0213656, '100110': 0.0212631, '010110': 0.0195968, '010000': 0.0162942, '011011': 0.0161583, '011101': 0.0088755, '001111': 0.0068577, '000110': 0.0042079, '101111': 0.0026223, '111011': 0.0009465, '111111': 0.0009229, '001011': 0.0004694, '101011': 9.87e-05, '001001': 2.74e-05, '000010': 1.39e-05, '111001': 7.1e-06, '101001': 2.1e-06}\n",
      "Sum Iris Setosa (red, label 0):  0.32698459999999996\n",
      "Sum Iris Versicolor (blue, label 1):  0.08223339999999998\n"
     ]
    },
    {
     "data": {
      "image/png": "[encoded data removed]",
      "text/plain": [
       "<Figure size 1152x432 with 1 Axes>"
      ]
     },
     "metadata": {
      "needs_background": "light"
     },
     "output_type": "display_data"
    },
    {
     "data": {
      "image/png": "[encoded data removed]",
      "text/plain": [
       "<Figure size 576x432 with 1 Axes>"
      ]
     },
     "metadata": {
      "needs_background": "light"
     },
     "output_type": "display_data"
    }
   ],
   "source": [
    "## 8 points distance-based classifier ##\n",
    "### Note: Far from qubit optimal solution\n",
    "\n",
    "# Get data:\n",
    "data_label_0, data_label_1, x_tilde, random_label = DataPlotter.grab_random_data(size=8)\n",
    "\n",
    "\n",
    "def eight_point_distance_based_classifier_circuit(x_tilde, data_label_0, data_label_1):\n",
    "    # Set-up a new connection with qi_backend:\n",
    "    qi_backend, qi_engine = initialize_qi_backend(\"distance_based_classifier_8_points\")\n",
    "    \n",
    "    # Angles data points:\n",
    "    angle_label0 = []\n",
    "    angle_label1 = []\n",
    "    for data_point in data_label_0:\n",
    "        angle_label0.append(2 * acos(data_point[0]) * sign(data_point[1]))\n",
    "    for data_point in data_label_1:\n",
    "        angle_label1.append(2 * acos(data_point[0]) * sign(data_point[1]))\n",
    "    angle_x_tilde = 2 * acos(x_tilde[0]) * sign(x_tilde[1])\n",
    "    \n",
    "    # Quantum circuit:\n",
    "    qubits = qi_engine.allocate_qureg(9)  # 6 qubits + 3 ancillary qubits for CCCCRy gates\n",
    "    \n",
    "    # part_a\n",
    "    for qubit in qubits[0:4]:\n",
    "        H | qubit\n",
    "\n",
    "    # part_b\n",
    "    C(Ry(angle_x_tilde), 1) | (qubits[3], qubits[4])\n",
    "    X | qubits[3]\n",
    "    \n",
    "    \n",
    "    # part_c\n",
    "    for angle in angle_label1:\n",
    "        # Build CCCCRy gate from 3 ancillary, Toffoli, and a CRy gate.\n",
    "        Toffoli | (qubits[0], qubits[1], qubits[6])\n",
    "        Toffoli | (qubits[2], qubits[6], qubits[7]) \n",
    "        Toffoli | (qubits[3], qubits[7], qubits[8]) \n",
    "        C(Ry(angle), 1) | (qubits[8], qubits[4])\n",
    "        Toffoli | (qubits[3], qubits[7], qubits[8]) \n",
    "        CNOT | (qubits[7], qubits[5])  # Set y_m label conditioned on first three qubits being 1, (don't include 4th qubit)\n",
    "        Toffoli | (qubits[2], qubits[6], qubits[7]) \n",
    "        Toffoli | (qubits[0], qubits[1], qubits[6])\n",
    "        \n",
    "        Toffoli | (qubits[0], qubits[1], qubits[2])\n",
    "        CNOT | (qubits[0], qubits[1])\n",
    "        X | qubits[0]\n",
    "          \n",
    "    for angle in angle_label0:\n",
    "        # Build CCCCRy gate from 3 ancillary, Toffoli, and a CRy gate.\n",
    "        Toffoli | (qubits[0], qubits[1], qubits[6])\n",
    "        Toffoli | (qubits[2], qubits[6], qubits[7]) \n",
    "        Toffoli | (qubits[3], qubits[7], qubits[8]) \n",
    "        C(Ry(angle), 1) | (qubits[8], qubits[4])\n",
    "        Toffoli | (qubits[3], qubits[7], qubits[8]) \n",
    "        Toffoli | (qubits[2], qubits[6], qubits[7]) \n",
    "        Toffoli | (qubits[0], qubits[1], qubits[6])\n",
    "        \n",
    "        Toffoli | (qubits[0], qubits[1], qubits[2])\n",
    "        CNOT | (qubits[0], qubits[1])\n",
    "        X | qubits[0] \n",
    "\n",
    "    # part_d\n",
    "    H | qubits[3]\n",
    "\n",
    "    qi_engine.flush()\n",
    "    temp_results = qi_backend.get_probabilities(qubits)\n",
    "    \n",
    "    # Results:\n",
    "    temp_results = qi_backend.get_probabilities(qubits)\n",
    "    return temp_results \n",
    "\n",
    "temp_results = eight_point_distance_based_classifier_circuit(x_tilde, data_label_0, data_label_1)\n",
    "def strip_ancillary_qubits(results):\n",
    "    histogram_results = {}\n",
    "    for k, v in results.items():\n",
    "        histogram_results[k[:-3]] = v  # Strip ancillary qubits\n",
    "    return histogram_results\n",
    "\n",
    "histogram_results = strip_ancillary_qubits(temp_results)\n",
    "print(histogram_results)\n",
    "def summarize_results_8_points(histogram_results):\n",
    "    sum_label0 = 0\n",
    "    sum_label1 = 0\n",
    "    for key, value in histogram_results.items():\n",
    "        if key[3] == \"0\":\n",
    "            if key[-1] == \"0\":\n",
    "                sum_label0 += value\n",
    "            else:\n",
    "                sum_label1 += value\n",
    "    print(\"Sum Iris Setosa (red, label 0): \", sum_label0)\n",
    "    print(\"Sum Iris Versicolor (blue, label 1): \", sum_label1)\n",
    "summarize_results_8_points(histogram_results)\n",
    "prob = DataPlotter.plot_data_points(x_tilde, data_label_0, data_label_1, histogram_results)  # Function to plot the data"
   ]
  },
  {
   "cell_type": "code",
   "execution_count": null,
   "metadata": {},
   "outputs": [],
   "source": []
  }
 ],
 "metadata": {
  "kernelspec": {
   "display_name": "Python 3",
   "language": "python",
   "name": "python3"
  },
  "language_info": {
   "codemirror_mode": {
    "name": "ipython",
    "version": 3
   },
   "file_extension": ".py",
   "mimetype": "text/x-python",
   "name": "python",
   "nbconvert_exporter": "python",
   "pygments_lexer": "ipython3",
   "version": "3.6.8"
  }
 },
 "nbformat": 4,
 "nbformat_minor": 2
}
