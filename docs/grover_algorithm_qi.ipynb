{
 "cells": [
  {
   "cell_type": "markdown",
   "metadata": {},
   "source": [
    "# Grover Search Algorithm\n",
    "\n",
    "This notebook is an adapted version from https://github.com/QISKit/qiskit-tutorial. We show to to perform the Grover Search algorithm both on a local simulator and on the Quantum Inspire backend.\n",
    "\n",
    "For more information about how to use the IBM Q Experience (QX), consult the [tutorials](https://quantumexperience.ng.bluemix.net/qstage/#/tutorial?sectionId=c59b3710b928891a1420190148a72cce&pageIndex=0), or check out the [community](https://quantumexperience.ng.bluemix.net/qstage/#/community).\n",
    "\n",
    "*Contributors*\n",
    "Pieter Eendebak, Giacomo Nannicini and Rudy Raymond (based on [this article](https://arxiv.org/abs/1708.03684)) "
   ]
  },
  {
   "cell_type": "markdown",
   "metadata": {},
   "source": [
    "# Introduction\n",
    "\n",
    "Grover search is one of the most popular algorithms used for searching a solution among many possible candidates using Quantum Computers. If there are $N$ possible solutions among which there is exactly one solution (that can be verified by some function evaluation), then Grover search can be used to find the solution with $O(\\sqrt{N})$ function evaluations. This is in contrast to classical computers that require $\\Omega(N)$ function evaluations: the Grover search is a quantum algorithm that provably can be used search the correct solutions quadratically faster than its classical counterparts.  \n",
    "\n",
    "Here, we are going to illustrate the use of Grover search to find a particular value in a binary number.\n",
    "The key elements of Grovers algorithm are:\n",
    "1. Initialization to a uniform superposition\n",
    "2. The oracle function\n",
    "3. Reflections (amplitude amplification)"
   ]
  },
  {
   "cell_type": "code",
   "execution_count": 1,
   "metadata": {},
   "outputs": [],
   "source": [
    "import numpy as np\n",
    "from getpass import getpass\n",
    "\n",
    "from qiskit.tools.visualization import circuit_drawer, plot_histogram\n",
    "from qiskit import execute, QuantumCircuit, QuantumRegister, ClassicalRegister\n",
    "from qiskit import Aer\n",
    "from IPython.display import display, Math, Latex\n",
    "\n",
    "from quantuminspire.api import QuantumInspireAPI\n",
    "from quantuminspire.qiskit import QI"
   ]
  },
  {
   "cell_type": "markdown",
   "metadata": {},
   "source": [
    "# The oracle function\n",
    "\n",
    "We implement an oracle function (black box) that acts as -1 on a single basis state, and +1 on all other status. "
   ]
  },
  {
   "cell_type": "code",
   "execution_count": 2,
   "metadata": {},
   "outputs": [],
   "source": [
    "def format_vector(state_vector, decimal_precision=7):\n",
    "    \"\"\" Format the state vector into a LaTeX formatted string.\n",
    "\n",
    "    Args:\n",
    "        state_vector (list or array): The state vector with complex\n",
    "                                      values e.g. [-1, 2j+1].\n",
    "\n",
    "    Returns:\n",
    "        str: The LaTeX format.\n",
    "    \"\"\"\n",
    "    result = []\n",
    "    epsilon = 1/pow(10, decimal_precision)\n",
    "    bit_length = (len(state_vector) - 1).bit_length()\n",
    "    for index, complex_value in enumerate(state_vector):\n",
    "        has_imag_part = np.round(complex_value.imag, decimal_precision) != 0.0\n",
    "        value = complex_value if has_imag_part else complex_value.real\n",
    "        value_round = np.round(value, decimal_precision)\n",
    "        if np.abs(value_round) < epsilon:\n",
    "            continue\n",
    "\n",
    "        binary_state = '{0:0{1}b}'.format(index, bit_length)\n",
    "        result.append(r'{0:+2g}\\left\\lvert {1}\\right\\rangle '.format(value_round, binary_state))\n",
    "    return ''.join(result)"
   ]
  },
  {
   "cell_type": "code",
   "execution_count": 3,
   "metadata": {},
   "outputs": [],
   "source": [
    "def run_circuit(q_circuit, q_register, number_of_qubits=None, backend_name='statevector_simulator'):\n",
    "    \"\"\" Run a circuit on all base state vectors and show the output.\n",
    "\n",
    "    Args:\n",
    "        q_circuit (QuantumCircuit):\n",
    "        q_register (QuantumRegister)\n",
    "        number_of_qubits (int or None): The number of qubits.\n",
    "        backend (str): ...\n",
    "    \"\"\"\n",
    "    if not isinstance(number_of_qubits, int):\n",
    "        number_of_qubits = q_register.size\n",
    "\n",
    "    if q_register.size != number_of_qubits:\n",
    "        warnings.warn('incorrect register size?')\n",
    "\n",
    "    latex_text = r'\\mathrm{running\\ circuit\\ on\\ set\\ of\\ basis\\ states:}'\n",
    "    display(Math(latex_text))\n",
    "\n",
    "    base_states = 2 ** number_of_qubits\n",
    "    backend = Aer.get_backend(backend_name)\n",
    "    for base_state in range(base_states):\n",
    "        pre_circuit = QuantumCircuit(q_register)\n",
    "        state = base_state\n",
    "        for kk in range(number_of_qubits):\n",
    "            if state % 2 == 1:\n",
    "                pre_circuit.x(q[kk])\n",
    "            state = state // 2    \n",
    "\n",
    "        input_state = r'\\left\\lvert{0:0{1}b}\\right\\rangle'.format(base_state, number_of_qubits)\n",
    "        circuit_total = pre_circuit.combine(q_circuit)\n",
    "        job = execute(circuit_total, backend=backend)\n",
    "        output_state = job.result().get_statevector(circuit_total)\n",
    "\n",
    "        latex_text = input_state + r'\\mathrm{transforms\\ to}: ' + format_vector(output_state)\n",
    "        display(Math(latex_text))"
   ]
  },
  {
   "cell_type": "code",
   "execution_count": 4,
   "metadata": {},
   "outputs": [
    {
     "name": "stderr",
     "output_type": "stream",
     "text": [
      "WARNING: Unable to compile latex. Is `pdflatex` installed? Skipping latex circuit drawing...\n"
     ]
    },
    {
     "data": {
      "text/plain": [
       "None"
      ]
     },
     "metadata": {},
     "output_type": "display_data"
    },
    {
     "name": "stdout",
     "output_type": "stream",
     "text": [
      "black box circuit:\n"
     ]
    },
    {
     "data": {
      "text/latex": [
       "$$\\mathrm{running\\ circuit\\ on\\ set\\ of\\ basis\\ states:}$$"
      ],
      "text/plain": [
       "<IPython.core.display.Math object>"
      ]
     },
     "metadata": {},
     "output_type": "display_data"
    },
    {
     "data": {
      "text/latex": [
       "$$\\left\\lvert000\\right\\rangle\\mathrm{transforms\\ to}: +1\\left\\lvert 000\\right\\rangle $$"
      ],
      "text/plain": [
       "<IPython.core.display.Math object>"
      ]
     },
     "metadata": {},
     "output_type": "display_data"
    },
    {
     "data": {
      "text/latex": [
       "$$\\left\\lvert001\\right\\rangle\\mathrm{transforms\\ to}: +1\\left\\lvert 001\\right\\rangle $$"
      ],
      "text/plain": [
       "<IPython.core.display.Math object>"
      ]
     },
     "metadata": {},
     "output_type": "display_data"
    },
    {
     "data": {
      "text/latex": [
       "$$\\left\\lvert010\\right\\rangle\\mathrm{transforms\\ to}: +1\\left\\lvert 010\\right\\rangle $$"
      ],
      "text/plain": [
       "<IPython.core.display.Math object>"
      ]
     },
     "metadata": {},
     "output_type": "display_data"
    },
    {
     "data": {
      "text/latex": [
       "$$\\left\\lvert011\\right\\rangle\\mathrm{transforms\\ to}: +1\\left\\lvert 011\\right\\rangle $$"
      ],
      "text/plain": [
       "<IPython.core.display.Math object>"
      ]
     },
     "metadata": {},
     "output_type": "display_data"
    },
    {
     "data": {
      "text/latex": [
       "$$\\left\\lvert100\\right\\rangle\\mathrm{transforms\\ to}: +1\\left\\lvert 100\\right\\rangle $$"
      ],
      "text/plain": [
       "<IPython.core.display.Math object>"
      ]
     },
     "metadata": {},
     "output_type": "display_data"
    },
    {
     "data": {
      "text/latex": [
       "$$\\left\\lvert101\\right\\rangle\\mathrm{transforms\\ to}: +1\\left\\lvert 101\\right\\rangle $$"
      ],
      "text/plain": [
       "<IPython.core.display.Math object>"
      ]
     },
     "metadata": {},
     "output_type": "display_data"
    },
    {
     "data": {
      "text/latex": [
       "$$\\left\\lvert110\\right\\rangle\\mathrm{transforms\\ to}: +1\\left\\lvert 110\\right\\rangle $$"
      ],
      "text/plain": [
       "<IPython.core.display.Math object>"
      ]
     },
     "metadata": {},
     "output_type": "display_data"
    },
    {
     "data": {
      "text/latex": [
       "$$\\left\\lvert111\\right\\rangle\\mathrm{transforms\\ to}: -1\\left\\lvert 111\\right\\rangle $$"
      ],
      "text/plain": [
       "<IPython.core.display.Math object>"
      ]
     },
     "metadata": {},
     "output_type": "display_data"
    },
    {
     "data": {
      "image/png": "[encoded data removed]",
      "text/plain": [
       "<Figure size 361.2x198.66 with 1 Axes>"
      ]
     },
     "metadata": {},
     "output_type": "display_data"
    }
   ],
   "source": [
    "n=3\n",
    "N=2**n\n",
    "q = QuantumRegister(n)\n",
    "qc = QuantumCircuit(q)\n",
    "\n",
    "if n==1:\n",
    "    def black_box(qc, q):    \n",
    "        qc.z(q)\n",
    "elif n==2:\n",
    "    def black_box(qc, q):\n",
    "        for i in range(n):\n",
    "            qc.s(q[i])\n",
    "        qc.h(q[1])\n",
    "        qc.cx(q[0], q[1])        \n",
    "        qc.h(q[1])\n",
    "        for i in range(n):\n",
    "            qc.s(q[i])\n",
    "else:\n",
    "    def black_box(qc, q):\n",
    "        qc.h(q[2])\n",
    "        qc.ccx(q[0], q[1], q[2])\n",
    "        qc.h(q[2])\n",
    "black_box(qc,q)\n",
    "cplot=circuit_drawer(qc)\n",
    "display(cplot)\n",
    "\n",
    "print('black box circuit:')\n",
    "run_circuit(qc, q)"
   ]
  },
  {
   "cell_type": "markdown",
   "metadata": {},
   "source": [
    "# Inversion about the average\n",
    "\n",
    "Another important procedure in Grover search is to have an operation that perfom the *inversion-about-the-average* step, namely, it performs the following transformation:\n",
    "\n",
    "$$\n",
    "\\sum_{j=0}^{2^{n}-1} \\alpha_j |j\\rangle \\rightarrow \\sum_{j=0}^{2^{n}-1}\\left(2 \\left( \\sum_{k=0}^{k=2^{n}-1} \\frac{\\alpha_k}{2^n} \\right) - \\alpha_j  \\right) |j\\rangle \n",
    "$$\n",
    "\n",
    "The above transformation can be used to amplify the probability amplitude $\\alpha_s$ when s is the solution and $\\alpha_s$ is negative (and small), while $\\alpha_j$ for $j \\neq s$ is positive. Roughly speaking, the value of $\\alpha_s$ increases by twice the average of the amplitudes, while others are reduced. The inversion-about-the-average can be realized with the sequence of unitary matrices as below:\n",
    "\n",
    "$$\n",
    "H^{\\otimes n} \\left(2|0\\rangle \\langle 0 | - I \\right) H^{\\otimes n}\n",
    "$$\n",
    "\n",
    "The first and last $H$ are just Hadamard gates applied to each qubit. The operation in the middle requires us to design a sub-circuit that flips the probability amplitude of the component of the quantum state corresponding to the all-zero binary string. The sub-circuit can be realized by the following function, which is a multi-qubit controlled-Z which flips the probability amplitude of the component of the quantum state corresponding to the all-one binary string. Applying X gates to all qubits before and after the function realizes the sub-circuit. "
   ]
  },
  {
   "cell_type": "code",
   "execution_count": 5,
   "metadata": {},
   "outputs": [],
   "source": [
    "def n_controlled_Z(circuit, controls, target):\n",
    "    \"\"\"Implement a Z gate with multiple controls\"\"\"\n",
    "    if (len(controls) > 2):\n",
    "        raise ValueError('The controlled Z with more than 2 ' +\n",
    "                         'controls is not implemented')\n",
    "    elif (len(controls) == 1):\n",
    "        circuit.h(target)\n",
    "        circuit.cx(controls[0], target)\n",
    "        circuit.h(target)\n",
    "    elif (len(controls) == 2):\n",
    "        circuit.h(target)\n",
    "        circuit.ccx(controls[0], controls[1], target)\n",
    "        circuit.h(target)"
   ]
  },
  {
   "cell_type": "markdown",
   "metadata": {},
   "source": [
    "Finally, the inversion-about-the-average circuit can be realized by the following function:"
   ]
  },
  {
   "cell_type": "code",
   "execution_count": 6,
   "metadata": {},
   "outputs": [],
   "source": [
    "def inversion_about_average(circuit, f_in, n):\n",
    "    \"\"\"Apply inversion about the average step of Grover's algorithm.\"\"\"\n",
    "    # Hadamards everywhere\n",
    "    if n==1:\n",
    "        circuit.x(f_in[0])\n",
    "        return\n",
    "    for j in range(n):\n",
    "        circuit.h(f_in[j])\n",
    "    # D matrix: flips the sign of the state |000> only\n",
    "    for j in range(n):\n",
    "        circuit.x(f_in[j])\n",
    "    n_controlled_Z(circuit, [f_in[j] for j in range(n-1)], f_in[n-1])\n",
    "    for j in range(n):\n",
    "        circuit.x(f_in[j])\n",
    "    # Hadamards everywhere again\n",
    "    for j in range(n):\n",
    "        circuit.h(f_in[j])"
   ]
  },
  {
   "cell_type": "markdown",
   "metadata": {},
   "source": [
    "We show the circuit that performs inversion about the average on $n$ qubits. We also show the effect of the circuit on the basis states."
   ]
  },
  {
   "cell_type": "code",
   "execution_count": 7,
   "metadata": {},
   "outputs": [
    {
     "name": "stderr",
     "output_type": "stream",
     "text": [
      "WARNING: Unable to compile latex. Is `pdflatex` installed? Skipping latex circuit drawing...\n"
     ]
    },
    {
     "data": {
      "image/png": "[encoded data removed]",
      "text/plain": [
       "<Figure size 602x198.66 with 1 Axes>"
      ]
     },
     "metadata": {},
     "output_type": "display_data"
    }
   ],
   "source": [
    "qInvAvg = QuantumCircuit(q)\n",
    "inversion_about_average(qInvAvg, q, n)\n",
    "circuit_drawer(qInvAvg)"
   ]
  },
  {
   "cell_type": "code",
   "execution_count": 8,
   "metadata": {},
   "outputs": [
    {
     "name": "stdout",
     "output_type": "stream",
     "text": [
      "inversion average circuit:\n"
     ]
    },
    {
     "data": {
      "text/latex": [
       "$$\\mathrm{running\\ circuit\\ on\\ set\\ of\\ basis\\ states:}$$"
      ],
      "text/plain": [
       "<IPython.core.display.Math object>"
      ]
     },
     "metadata": {},
     "output_type": "display_data"
    },
    {
     "data": {
      "text/latex": [
       "$$\\left\\lvert000\\right\\rangle\\mathrm{transforms\\ to}: +0.75\\left\\lvert 000\\right\\rangle -0.25\\left\\lvert 001\\right\\rangle -0.25\\left\\lvert 010\\right\\rangle -0.25\\left\\lvert 011\\right\\rangle -0.25\\left\\lvert 100\\right\\rangle -0.25\\left\\lvert 101\\right\\rangle -0.25\\left\\lvert 110\\right\\rangle -0.25\\left\\lvert 111\\right\\rangle $$"
      ],
      "text/plain": [
       "<IPython.core.display.Math object>"
      ]
     },
     "metadata": {},
     "output_type": "display_data"
    },
    {
     "data": {
      "text/latex": [
       "$$\\left\\lvert001\\right\\rangle\\mathrm{transforms\\ to}: -0.25\\left\\lvert 000\\right\\rangle +0.75\\left\\lvert 001\\right\\rangle -0.25\\left\\lvert 010\\right\\rangle -0.25\\left\\lvert 011\\right\\rangle -0.25\\left\\lvert 100\\right\\rangle -0.25\\left\\lvert 101\\right\\rangle -0.25\\left\\lvert 110\\right\\rangle -0.25\\left\\lvert 111\\right\\rangle $$"
      ],
      "text/plain": [
       "<IPython.core.display.Math object>"
      ]
     },
     "metadata": {},
     "output_type": "display_data"
    },
    {
     "data": {
      "text/latex": [
       "$$\\left\\lvert010\\right\\rangle\\mathrm{transforms\\ to}: -0.25\\left\\lvert 000\\right\\rangle -0.25\\left\\lvert 001\\right\\rangle +0.75\\left\\lvert 010\\right\\rangle -0.25\\left\\lvert 011\\right\\rangle -0.25\\left\\lvert 100\\right\\rangle -0.25\\left\\lvert 101\\right\\rangle -0.25\\left\\lvert 110\\right\\rangle -0.25\\left\\lvert 111\\right\\rangle $$"
      ],
      "text/plain": [
       "<IPython.core.display.Math object>"
      ]
     },
     "metadata": {},
     "output_type": "display_data"
    },
    {
     "data": {
      "text/latex": [
       "$$\\left\\lvert011\\right\\rangle\\mathrm{transforms\\ to}: -0.25\\left\\lvert 000\\right\\rangle -0.25\\left\\lvert 001\\right\\rangle -0.25\\left\\lvert 010\\right\\rangle +0.75\\left\\lvert 011\\right\\rangle -0.25\\left\\lvert 100\\right\\rangle -0.25\\left\\lvert 101\\right\\rangle -0.25\\left\\lvert 110\\right\\rangle -0.25\\left\\lvert 111\\right\\rangle $$"
      ],
      "text/plain": [
       "<IPython.core.display.Math object>"
      ]
     },
     "metadata": {},
     "output_type": "display_data"
    },
    {
     "data": {
      "text/latex": [
       "$$\\left\\lvert100\\right\\rangle\\mathrm{transforms\\ to}: -0.25\\left\\lvert 000\\right\\rangle -0.25\\left\\lvert 001\\right\\rangle -0.25\\left\\lvert 010\\right\\rangle -0.25\\left\\lvert 011\\right\\rangle +0.75\\left\\lvert 100\\right\\rangle -0.25\\left\\lvert 101\\right\\rangle -0.25\\left\\lvert 110\\right\\rangle -0.25\\left\\lvert 111\\right\\rangle $$"
      ],
      "text/plain": [
       "<IPython.core.display.Math object>"
      ]
     },
     "metadata": {},
     "output_type": "display_data"
    },
    {
     "data": {
      "text/latex": [
       "$$\\left\\lvert101\\right\\rangle\\mathrm{transforms\\ to}: -0.25\\left\\lvert 000\\right\\rangle -0.25\\left\\lvert 001\\right\\rangle -0.25\\left\\lvert 010\\right\\rangle -0.25\\left\\lvert 011\\right\\rangle -0.25\\left\\lvert 100\\right\\rangle +0.75\\left\\lvert 101\\right\\rangle -0.25\\left\\lvert 110\\right\\rangle -0.25\\left\\lvert 111\\right\\rangle $$"
      ],
      "text/plain": [
       "<IPython.core.display.Math object>"
      ]
     },
     "metadata": {},
     "output_type": "display_data"
    },
    {
     "data": {
      "text/latex": [
       "$$\\left\\lvert110\\right\\rangle\\mathrm{transforms\\ to}: -0.25\\left\\lvert 000\\right\\rangle -0.25\\left\\lvert 001\\right\\rangle -0.25\\left\\lvert 010\\right\\rangle -0.25\\left\\lvert 011\\right\\rangle -0.25\\left\\lvert 100\\right\\rangle -0.25\\left\\lvert 101\\right\\rangle +0.75\\left\\lvert 110\\right\\rangle -0.25\\left\\lvert 111\\right\\rangle $$"
      ],
      "text/plain": [
       "<IPython.core.display.Math object>"
      ]
     },
     "metadata": {},
     "output_type": "display_data"
    },
    {
     "data": {
      "text/latex": [
       "$$\\left\\lvert111\\right\\rangle\\mathrm{transforms\\ to}: -0.25\\left\\lvert 000\\right\\rangle -0.25\\left\\lvert 001\\right\\rangle -0.25\\left\\lvert 010\\right\\rangle -0.25\\left\\lvert 011\\right\\rangle -0.25\\left\\lvert 100\\right\\rangle -0.25\\left\\lvert 101\\right\\rangle -0.25\\left\\lvert 110\\right\\rangle +0.75\\left\\lvert 111\\right\\rangle $$"
      ],
      "text/plain": [
       "<IPython.core.display.Math object>"
      ]
     },
     "metadata": {},
     "output_type": "display_data"
    }
   ],
   "source": [
    "print('inversion average circuit:')\n",
    "qc = QuantumCircuit(q)\n",
    "inversion_about_average(qc, q, n)        \n",
    "run_circuit(qc, q, n)"
   ]
  },
  {
   "cell_type": "markdown",
   "metadata": {},
   "source": [
    "# Grover Search: putting all together\n",
    "\n",
    "The complete steps of Grover search is as follow.\n",
    "\n",
    "1. Create the superposition of all possible solutions as the initial state (with working qubits initialized to zero)\n",
    "$$  \\sum_{j=0}^{2^{n}-1} \\frac{1}{2^n} |j\\rangle |0\\rangle$$\n",
    "2. Repeat for $T$ times:\n",
    "    * Apply the blackbox function\n",
    "    * Apply the inversion-about-the-average function\n",
    "    \n",
    "3. Measure to obtain the solution"
   ]
  },
  {
   "cell_type": "markdown",
   "metadata": {},
   "source": [
    "Before we go to the code to perform the Grover search we make some remarks on the number of repetitions $T$ that we have to perform (for details see [Grover algorithm, Wikipedia](https://en.wikipedia.org/wiki/Grover%27s_algorithm)).\n",
    "\n",
    "Each Grover step rotates the 'winner solution' by a fixed angle. This means that after a certain number of steps we arrive at the optimal approximation (e.g. the amplitude of the winner solution is maximal). If we then apply more iterations, the quality of our result will go _down_. For a database of size $N=2^n$ the optimal number of iterations is\n",
    "$$r=\\pi \\sqrt{N}/4$$"
   ]
  },
  {
   "cell_type": "code",
   "execution_count": 9,
   "metadata": {},
   "outputs": [
    {
     "data": {
      "text/latex": [
       "$$\\textrm{Rotation of the winner: } \\theta = 41.41 \\mathrm{\\ [deg]}$$"
      ],
      "text/plain": [
       "<IPython.core.display.Math object>"
      ]
     },
     "metadata": {},
     "output_type": "display_data"
    },
    {
     "name": "stdout",
     "output_type": "stream",
     "text": [
      "Optimal number of Grover iterations for n=3: 2.2\n"
     ]
    }
   ],
   "source": [
    "theta = 2*np.arcsin(1/np.sqrt(N))\n",
    "r=np.pi*np.sqrt(N)/4\n",
    "display(Math(r'\\textrm{Rotation of the winner: } \\theta = %.2f \\mathrm{\\ [deg]}' % (np.rad2deg(theta))) )\n",
    "print('Optimal number of Grover iterations for n=%d: %.1f' % (n,r) )\n",
    "T=int(r)"
   ]
  },
  {
   "cell_type": "markdown",
   "metadata": {},
   "source": [
    "The probablity of the winner state after $T$ iterations is $\\sin( (T+1/2)\\theta)^2$"
   ]
  },
  {
   "cell_type": "code",
   "execution_count": 10,
   "metadata": {},
   "outputs": [
    {
     "name": "stdout",
     "output_type": "stream",
     "text": [
      "0 iterations: p 0.12\n",
      "1 iterations: p 0.78\n",
      "2 iterations: p 0.95\n",
      "3 iterations: p 0.33\n"
     ]
    }
   ],
   "source": [
    "for i in range(int(r+2)):\n",
    "    p=np.sin((i+1/2)*theta)**2\n",
    "    print('%d iterations: p %.2f' % (i, p))"
   ]
  },
  {
   "cell_type": "markdown",
   "metadata": {},
   "source": [
    "Finally we define the complete circuit for Grovers algorithm, excute it and show the results."
   ]
  },
  {
   "cell_type": "code",
   "execution_count": 11,
   "metadata": {},
   "outputs": [
    {
     "data": {
      "text/latex": [
       "$$\\mathrm{state\\ after\\ initialization:\\ }+0.353553\\left\\lvert 000\\right\\rangle +0.353553\\left\\lvert 001\\right\\rangle +0.353553\\left\\lvert 010\\right\\rangle +0.353553\\left\\lvert 011\\right\\rangle +0.353553\\left\\lvert 100\\right\\rangle +0.353553\\left\\lvert 101\\right\\rangle +0.353553\\left\\lvert 110\\right\\rangle +0.353553\\left\\lvert 111\\right\\rangle $$"
      ],
      "text/plain": [
       "<IPython.core.display.Math object>"
      ]
     },
     "metadata": {},
     "output_type": "display_data"
    },
    {
     "name": "stdout",
     "output_type": "stream",
     "text": [
      "number of iterations T=2\n"
     ]
    },
    {
     "data": {
      "image/png": "[encoded data removed]",
      "text/plain": [
       "<Figure size 432x288 with 1 Axes>"
      ]
     },
     "metadata": {
      "needs_background": "light"
     },
     "output_type": "display_data"
    }
   ],
   "source": [
    "\"\"\"Grover search implemented in QISKit.\n",
    "\n",
    "This module contains the code necessary to run Grover search on 3\n",
    "qubits, both with a simulator and with a real quantum computing\n",
    "device. This code is the companion for the paper\n",
    "\"An introduction to quantum computing, without the physics\",\n",
    "Giacomo Nannicini, https://arxiv.org/abs/1708.03684.\n",
    "\n",
    "\"\"\"\n",
    "def input_state(circuit, f_in, n):\n",
    "    \"\"\"(n+1)-qubit input state for Grover search.\"\"\"\n",
    "    for j in range(n):\n",
    "        circuit.h(f_in[j])\n",
    "\n",
    "q = QuantumRegister(n)\n",
    "ans = ClassicalRegister(n)\n",
    "qc = QuantumCircuit(q, ans)\n",
    "\n",
    "input_state(qc, q, n)\n",
    "\n",
    "backend=Aer.get_backend('statevector_simulator')\n",
    "job = execute(qc, backend=backend, shots=10)\n",
    "result = job.result()\n",
    "state_vector = result.get_statevector(qc)\n",
    "m=display( Math('\\mathrm{state\\ after\\ initialization:\\ }' +format_vector(state_vector)))\n",
    "\n",
    "# apply T rounds of oracle and inversion about the average\n",
    "print('number of iterations T=%d'% T)\n",
    "for t in range(T):\n",
    "    for i in range(n):\n",
    "        qc.barrier(q[i]) # for better visualization\n",
    "    qc.iden(q[0])\n",
    "    # Apply T full iterations\n",
    "    black_box(qc, q)\n",
    "    for i in range(n):\n",
    "        qc.barrier(q[i])\n",
    "    qc.iden(q[0])\n",
    "    inversion_about_average(qc, q, n)\n",
    "\n",
    "# Measure the output register in the computational basis\n",
    "for j in range(n):\n",
    "    qc.measure(q[j], ans[j])\n",
    "\n",
    "# Execute circuit\n",
    "backend=Aer.get_backend('qasm_simulator')\n",
    "job  = execute(qc, backend=backend, shots=10)\n",
    "result = job.result()\n",
    "\n",
    "# Get counts and plot histogram\n",
    "counts = result.get_counts()\n",
    "plot_histogram(counts)"
   ]
  },
  {
   "cell_type": "markdown",
   "metadata": {},
   "source": [
    "As expected, the state that is indicated by the oracle function has the highest probability of begin measured.\n",
    "\n",
    "We show the full circuit that was generated by the code."
   ]
  },
  {
   "cell_type": "code",
   "execution_count": 12,
   "metadata": {},
   "outputs": [
    {
     "name": "stderr",
     "output_type": "stream",
     "text": [
      "WARNING: Unable to compile latex. Is `pdflatex` installed? Skipping latex circuit drawing...\n"
     ]
    },
    {
     "data": {
      "image/png": "[encoded data removed]",
      "text/plain": [
       "<Figure size 1384.6x1222.06 with 1 Axes>"
      ]
     },
     "metadata": {},
     "output_type": "display_data"
    }
   ],
   "source": [
    "circuit_drawer(qc)"
   ]
  },
  {
   "cell_type": "markdown",
   "metadata": {},
   "source": [
    "# Run the cirquit on the Quantum Inspire simulator"
   ]
  },
  {
   "cell_type": "markdown",
   "metadata": {},
   "source": [
    "First we make a connection to the Quantum Inspire website."
   ]
  },
  {
   "cell_type": "code",
   "execution_count": 13,
   "metadata": {},
   "outputs": [
    {
     "name": "stdout",
     "output_type": "stream",
     "text": [
      "Enter email\n",
      "saevar\n",
      "Enter password\n",
      "········\n"
     ]
    }
   ],
   "source": [
    "try:\n",
    "    passwd\n",
    "except:\n",
    "    print('Enter email')\n",
    "    username = input();\n",
    "    print('Enter password')\n",
    "    passwd = getpass();\n",
    "\n",
    "uri = 'https://api.quantum-inspire.com'\n",
    "\n",
    "QI.set_authentication_details(username, passwd, uri)"
   ]
  },
  {
   "cell_type": "markdown",
   "metadata": {},
   "source": [
    "We can list backends and perform other functions with the `QuantumInspireProvider`."
   ]
  },
  {
   "cell_type": "code",
   "execution_count": 14,
   "metadata": {},
   "outputs": [
    {
     "data": {
      "text/plain": [
       "[<QuantumInspireBackend('QX single-node simulator') from QuTech Delft()>,\n",
       " <QuantumInspireBackend('QX single-node simulator SurfSara') from QuTech Delft()>,\n",
       " <QuantumInspireBackend('QX multi-node simulator SurfSara') from QuTech Delft()>]"
      ]
     },
     "execution_count": 14,
     "metadata": {},
     "output_type": "execute_result"
    }
   ],
   "source": [
    "QI.backends()"
   ]
  },
  {
   "cell_type": "markdown",
   "metadata": {},
   "source": [
    "We create a QisKit backend for the Quantum Inspire interface and execute the circuit generated above."
   ]
  },
  {
   "cell_type": "code",
   "execution_count": 15,
   "metadata": {},
   "outputs": [],
   "source": [
    "qi_backend = QI.get_backend('QX single-node simulator')\n",
    "j=execute(qc, backend=backend, shots=512)"
   ]
  },
  {
   "cell_type": "markdown",
   "metadata": {},
   "source": [
    "We can wait for the results and then print them"
   ]
  },
  {
   "cell_type": "code",
   "execution_count": 16,
   "metadata": {},
   "outputs": [
    {
     "name": "stdout",
     "output_type": "stream",
     "text": [
      "Generated histogram:\n",
      "{'000': 3, '001': 1, '010': 4, '011': 4, '100': 4, '101': 3, '110': 4, '111': 489}\n"
     ]
    }
   ],
   "source": [
    "result = j.result()\n",
    "print('Generated histogram:')\n",
    "print(result.get_counts())"
   ]
  },
  {
   "cell_type": "markdown",
   "metadata": {},
   "source": [
    "Visualization can be done with the normal Python plotting routines, or with the QisKit SDK."
   ]
  },
  {
   "cell_type": "code",
   "execution_count": 17,
   "metadata": {},
   "outputs": [
    {
     "data": {
      "image/png": "[encoded data removed]",
      "text/plain": [
       "<Figure size 432x288 with 1 Axes>"
      ]
     },
     "metadata": {
      "needs_background": "light"
     },
     "output_type": "display_data"
    }
   ],
   "source": [
    "plot_histogram(result.get_counts(qc))"
   ]
  },
  {
   "cell_type": "markdown",
   "metadata": {},
   "source": [
    "A screenshot from the execution result on the Quantum Inspire website."
   ]
  },
  {
   "cell_type": "markdown",
   "metadata": {},
   "source": [
    "![title](grover-qi.png)"
   ]
  },
  {
   "cell_type": "markdown",
   "metadata": {},
   "source": [
    "## References\n",
    "\n",
    "[1] \"[A fast quantum mechanical algorithm for database search](https://arxiv.org/abs/quant-ph/9605043)\", L. K. Grover, Proceedings of the 28th Annual ACM Symposium on the Theory of Computing (STOC 1996)\n",
    "\n",
    "[2] \"[Tight bounds on quantum searching](https://arxiv.org/abs/quant-ph/9605034)\", Boyer et al., Fortsch.Phys.46:493-506,1998\n",
    "\n",
    "[3] \"[Quantum Inspire](https://www.quantum-inspire.com/)\""
   ]
  }
 ],
 "metadata": {
  "anaconda-cloud": {},
  "kernelspec": {
   "display_name": "Python 3",
   "language": "python",
   "name": "python3"
  },
  "language_info": {
   "codemirror_mode": {
    "name": "ipython",
    "version": 3
   },
   "file_extension": ".py",
   "mimetype": "text/x-python",
   "name": "python",
   "nbconvert_exporter": "python",
   "pygments_lexer": "ipython3",
   "version": "3.6.6"
  },
  "latex_envs": {
   "bibliofile": "biblio.bib",
   "cite_by": "apalike",
   "current_citInitial": 1,
   "eqLabelWithNumbers": true,
   "eqNumInitial": 0
  },
  "nav_menu": {},
  "toc": {
   "navigate_menu": true,
   "number_sections": true,
   "sideBar": true,
   "threshold": 6,
   "toc_cell": false,
   "toc_section_display": "block",
   "toc_window_display": false
  }
 },
 "nbformat": 4,
 "nbformat_minor": 1
}
