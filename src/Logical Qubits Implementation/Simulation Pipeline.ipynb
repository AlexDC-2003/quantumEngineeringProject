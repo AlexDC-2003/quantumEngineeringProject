{
 "cells": [
  {
   "cell_type": "markdown",
   "id": "021f8ec5-f787-41ba-bcf2-da8b509f668d",
   "metadata": {},
   "source": [
    "# Simulation Pipeline for Hydrogen Simulation"
   ]
  },
  {
   "cell_type": "code",
   "execution_count": 1,
   "id": "efba0eb1-1741-4662-a58f-46a34df2ee52",
   "metadata": {},
   "outputs": [],
   "source": [
    "# Simulation Imports\n",
    "import numpy as np\n",
    "import matplotlib.pyplot as plt\n",
    "\n",
    "from qiskit_aer import StatevectorSimulator\n",
    "\n",
    "from qiskit.quantum_info import Operator, Statevector\n",
    "from qiskit import transpile, QuantumCircuit, QuantumRegister\n",
    "from qiskit.visualization import plot_histogram\n",
    "\n",
    "\n",
    "# Internal Imports\n",
    "from util import generateHamiltonian, getBuilderByType, generatePhaseEstimation\n"
   ]
  },
  {
   "cell_type": "markdown",
   "id": "9d583852-75c1-4d1a-9d1d-5839119930c7",
   "metadata": {},
   "source": [
    "## Simplified Run Pipeline"
   ]
  },
  {
   "cell_type": "code",
   "execution_count": 3,
   "id": "890854a0-2c79-4aa1-a615-27fbd7d8e554",
   "metadata": {},
   "outputs": [],
   "source": [
    "# Constants\n",
    "theta = [-1.5960928412985012, 0.3554257493027984, 0.34119476657602105, -0.4854856102628099, 0.3554257493027984, 0.24586610112367618, 0.35255281608639216, 0.0895002880307033, 0.0895002880307033, 0.3353663891543795, 0.24586610112367618, -0.4854856102628099, 0.0895002880307033, 0.0895002880307033, 0.3353663891543795]\n",
    "builderType = \"Physical\" # Options: Physical, Double Spin, Steane, Heterogenous Surface\n",
    "num_of_shots = 1024\n",
    "num_of_QPE_ancilla = 6\n",
    "dt = 1\n",
    "\n",
    "sim = StatevectorSimulator()"
   ]
  },
  {
   "cell_type": "code",
   "execution_count": 5,
   "id": "9f973e32-441e-400b-b918-3dd2b933c4e8",
   "metadata": {},
   "outputs": [],
   "source": [
    "# Build the Circuit\n",
    "\n",
    "hamiltonianBuilder = generateHamiltonian(theta, getBuilderByType(builderType))\n",
    "\n",
    "totalBuilder =  generatePhaseEstimation(num_of_QPE_ancilla, hamiltonianBuilder.getPhysicalNumber(), dt, hamiltonianBuilder.build())"
   ]
  },
  {
   "cell_type": "code",
   "execution_count": 11,
   "id": "ec28675d-34dc-4af9-a9d9-6a2cd56a4988",
   "metadata": {},
   "outputs": [],
   "source": [
    "# Run the Simulation\n",
    "circuit = totalBuilder.build()\n",
    "\n",
    "# Measure the ancilla qubits\n",
    "circuit.measure(range(num_of_QPE_ancilla), range(num_of_QPE_ancilla))\n",
    "\n",
    "compiled = transpile(circuit, sim)\n",
    "job = sim.run(compiled, shots=num_of_shots)\n",
    "result = job.result()\n",
    "\n",
    "\n"
   ]
  },
  {
   "cell_type": "code",
   "execution_count": 12,
   "id": "3a2ff13b-461b-4ecc-8468-2fab75eaf9fb",
   "metadata": {},
   "outputs": [
    {
     "name": "stdout",
     "output_type": "stream",
     "text": [
      "{'100000': 35, '110111': 21, '100010': 3, '001011': 5, '111110': 12, '010011': 3, '001010': 5, '100001': 10, '111111': 55, '101110': 3, '110010': 24, '000101': 29, '010010': 3, '010110': 8, '000110': 4, '101111': 12, '110001': 10, '001110': 4, '111011': 10, '100101': 6, '010101': 157, '011000': 11, '111101': 4, '001100': 7, '100011': 5, '101011': 3, '000010': 3, '110101': 60, '001000': 34, '110110': 68, '011110': 16, '101100': 2, '000011': 9, '110100': 26, '101101': 1, '110011': 12, '000100': 37, '110000': 6, '000111': 48, '011100': 14, '001001': 17, '100110': 2, '001111': 41, '111010': 5, '010111': 27, '011011': 8, '011001': 13, '010000': 11, '011111': 19, '010100': 8, '100111': 4, '101000': 4, '111000': 13, '111001': 6, '100100': 1, '111100': 2, '001101': 36, '011101': 12, '011010': 4, '010001': 5, '101001': 1}\n",
      "Most Frequent Result: 010101\n"
     ]
    }
   ],
   "source": [
    "counts = result.get_counts()\n",
    "print(counts)\n",
    "most_frequent_result = max(counts.items(), key=lambda x: x[1])[0]\n",
    "\n",
    "\n",
    "print(f\"Most Frequent Result: {most_frequent_result}\")\n"
   ]
  },
  {
   "cell_type": "markdown",
   "id": "7cb69bca-faae-485e-8a02-f07b2369b446",
   "metadata": {},
   "source": [
    "## Vizualization of Results"
   ]
  },
  {
   "cell_type": "markdown",
   "id": "1397d892-d48a-4af3-89a4-bb3e83e4dc4f",
   "metadata": {},
   "source": [
    "### Ground State Energy"
   ]
  },
  {
   "cell_type": "markdown",
   "id": "1cc44d29-ef70-4b8e-b7d4-c2f9c74d8c95",
   "metadata": {},
   "source": [
    "### Circuit Fidelity"
   ]
  },
  {
   "cell_type": "markdown",
   "id": "8eda5bb9-b80e-44b1-86a6-dbbd2843e5d2",
   "metadata": {},
   "source": [
    "### Statistical Invalid Codestate Detection"
   ]
  },
  {
   "cell_type": "markdown",
   "id": "b093e229-8662-4fb5-b0f1-712999d20fd5",
   "metadata": {},
   "source": [
    "### Physical Gate Counts depending on encoding / computation time"
   ]
  },
  {
   "cell_type": "code",
   "execution_count": null,
   "id": "952c7e4e-e5ec-4fc9-8044-cc9c0dc48827",
   "metadata": {},
   "outputs": [],
   "source": []
  }
 ],
 "metadata": {
  "kernelspec": {
   "display_name": "Python [conda env:base] *",
   "language": "python",
   "name": "conda-base-py"
  },
  "language_info": {
   "codemirror_mode": {
    "name": "ipython",
    "version": 3
   },
   "file_extension": ".py",
   "mimetype": "text/x-python",
   "name": "python",
   "nbconvert_exporter": "python",
   "pygments_lexer": "ipython3",
   "version": "3.12.7"
  }
 },
 "nbformat": 4,
 "nbformat_minor": 5
}
