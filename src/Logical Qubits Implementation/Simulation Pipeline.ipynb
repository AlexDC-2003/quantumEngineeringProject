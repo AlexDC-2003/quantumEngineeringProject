{
 "cells": [
  {
   "cell_type": "markdown",
   "id": "021f8ec5-f787-41ba-bcf2-da8b509f668d",
   "metadata": {},
   "source": [
    "# Simulation Pipeline for Hydrogen Simulation"
   ]
  },
  {
   "cell_type": "code",
   "execution_count": 9,
   "id": "efba0eb1-1741-4662-a58f-46a34df2ee52",
   "metadata": {},
   "outputs": [],
   "source": [
    "# Simulation Imports\n",
    "import numpy as np\n",
    "import matplotlib.pyplot as plt\n",
    "\n",
    "from qiskit_aer import StatevectorSimulator\n",
    "\n",
    "from qiskit.quantum_info import Operator, Statevector\n",
    "from qiskit import transpile, QuantumCircuit, QuantumRegister\n",
    "from qiskit.visualization import plot_histogram\n",
    "\n",
    "\n",
    "# Internal Imports\n",
    "from util import generateHamiltonian, getBuilderByType\n"
   ]
  },
  {
   "cell_type": "markdown",
   "id": "9d583852-75c1-4d1a-9d1d-5839119930c7",
   "metadata": {},
   "source": [
    "## Simplified Run Pipeline"
   ]
  },
  {
   "cell_type": "code",
   "execution_count": 11,
   "id": "890854a0-2c79-4aa1-a615-27fbd7d8e554",
   "metadata": {},
   "outputs": [],
   "source": [
    "# Constants\n",
    "theta = [3.14] * 15\n",
    "builderType = \"Physical\" # Options: Physical, Double Spin, Steane, Heterogenous Surface\n",
    "num_of_shots = 512\n",
    "\n",
    "sim = StatevectorSimulator()\n"
   ]
  },
  {
   "cell_type": "code",
   "execution_count": null,
   "id": "9f973e32-441e-400b-b918-3dd2b933c4e8",
   "metadata": {},
   "outputs": [],
   "source": [
    "# Build the Circuit"
   ]
  },
  {
   "cell_type": "code",
   "execution_count": null,
   "id": "ec28675d-34dc-4af9-a9d9-6a2cd56a4988",
   "metadata": {},
   "outputs": [],
   "source": [
    "# Run the Simulation"
   ]
  }
 ],
 "metadata": {
  "kernelspec": {
   "display_name": "Python [conda env:base] *",
   "language": "python",
   "name": "conda-base-py"
  },
  "language_info": {
   "codemirror_mode": {
    "name": "ipython",
    "version": 3
   },
   "file_extension": ".py",
   "mimetype": "text/x-python",
   "name": "python",
   "nbconvert_exporter": "python",
   "pygments_lexer": "ipython3",
   "version": "3.12.7"
  }
 },
 "nbformat": 4,
 "nbformat_minor": 5
}
