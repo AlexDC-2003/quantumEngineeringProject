{
 "cells": [
  {
   "cell_type": "markdown",
   "id": "021f8ec5-f787-41ba-bcf2-da8b509f668d",
   "metadata": {},
   "source": [
    "# Simulation Pipeline for Hydrogen Simulation"
   ]
  },
  {
   "cell_type": "code",
   "execution_count": 7,
   "id": "efba0eb1-1741-4662-a58f-46a34df2ee52",
   "metadata": {},
   "outputs": [],
   "source": [
    "# Simulation Imports\n",
    "import numpy as np\n",
    "import matplotlib.pyplot as plt\n",
    "\n",
    "from qiskit_aer import StatevectorSimulator, AerSimulator, QasmSimulator\n",
    "\n",
    "from qiskit.quantum_info import Operator, Statevector, state_fidelity, Pauli\n",
    "from qiskit import transpile, QuantumCircuit, QuantumRegister, ClassicalRegister\n",
    "from qiskit.visualization import plot_histogram\n",
    "from qiskit_aer.noise import NoiseModel, pauli_error\n",
    "\n",
    "# Internal Imports\n",
    "from util import generateHamiltonian, getBuilderByType, generatePhaseEstimation #generateThetas\n",
    "from visualize import vizualizeFidelity, vizualizeErrorRate, vizualizeCircuit, computeTime, computeGateCount\n"
   ]
  },
  {
   "cell_type": "markdown",
   "id": "9d583852-75c1-4d1a-9d1d-5839119930c7",
   "metadata": {},
   "source": [
    "## Simulation Pipeline for Quantum Phase Estimation"
   ]
  },
  {
   "cell_type": "code",
   "execution_count": 8,
   "id": "890854a0-2c79-4aa1-a615-27fbd7d8e554",
   "metadata": {},
   "outputs": [],
   "source": [
    "# ------------------------------------\n",
    "#  Modifiable Parameter\n",
    "# ------------------------------------\n",
    "\n",
    "# Hamiltonian Coefficients\n",
    "theta = [-1.5960928412985012, 0.3554257493027984, 0.34119476657602105, -0.4854856102628099, 0.3554257493027984, 0.24586610112367618, 0.35255281608639216, 0.0895002880307033, 0.0895002880307033, 0.3353663891543795, 0.24586610112367618, -0.4854856102628099, 0.0895002880307033, 0.0895002880307033, 0.3353663891543795]\n",
    "\n",
    "# Initial State\n",
    "initial_state = Statevector([0. +0.j, 1. + 0.j, 0. + 0.j, 0. + 0.j, 0. + 0.j, 0. + 0.j, 0. + 0.j,\n",
    "                                     0. + 0.j, 0. + 0.j, 0. + 0.j, 0. + 0.j, 0. + 0.j, 0. + 0.j, 0. + 0.j,\n",
    "                                     0. + 0.j, 0. + 0.j],\n",
    "                                    dims=(2, 2, 2, 2))\n",
    "# Logical Qubit Type\n",
    "builderType = \"Double Qubit\" # Options: \"Single Qubit\", \"Double Qubit\", \"Steane\"\n",
    "\n",
    "# Number of simulated shots \n",
    "num_of_shots = 1000\n",
    "\n",
    "# Number of ancilla in the Quantum Phase Estimation Algorithm\n",
    "num_of_QPE_ancilla = 6\n",
    "\n",
    "\n",
    "# (Legacy Parameter, please ignore).\n",
    "dt = 1\n",
    "\n",
    "# Simulator of choice\n",
    "sim = AerSimulator(method='matrix_product_state')"
   ]
  },
  {
   "cell_type": "code",
   "execution_count": 9,
   "id": "9f973e32-441e-400b-b918-3dd2b933c4e8",
   "metadata": {},
   "outputs": [],
   "source": [
    "# Build the Circuit using the dedicated builder.\n",
    "\n",
    "hamiltonianBuilder = generateHamiltonian(theta, getBuilderByType(builderType))\n",
    "#plt.figure(hamiltonianBuilder.build().draw(output=\"mpl\"))\n",
    "\n",
    "initial_state =  Statevector([0. + 0.j, 1. + 0.j, 0. + 0.j, 0. + 0.j, 0. + 0.j, 0. + 0.j, 0. + 0.j,\n",
    "                                     0. + 0.j, 0. + 0.j, 0. + 0.j, 0. + 0.j, 0. + 0.j, 0. + 0.j, 0. + 0.j,\n",
    "                                     0. + 0.j, 0. + 0.j],\n",
    "                                    dims=(2, 2, 2, 2))\n",
    "\"\"\"\n",
    "initial_state = Statevector([0. + 0.j, 0. + 0.j,0. + 0.j,1. + 0.j] + [0. + 0.j]*252)\n",
    "\"\"\"\n",
    "totalBuilder =  generatePhaseEstimation(num_of_QPE_ancilla, hamiltonianBuilder.getPhysicalNumber(), dt, hamiltonianBuilder, initial_state)"
   ]
  },
  {
   "cell_type": "code",
   "execution_count": null,
   "id": "ec28675d-34dc-4af9-a9d9-6a2cd56a4988",
   "metadata": {},
   "outputs": [],
   "source": [
    "# Build the Simulation\n",
    "circuit = totalBuilder.build()\n",
    "# Measure the ancilla qubits\n",
    "circuit.measure(range(num_of_QPE_ancilla), range(num_of_QPE_ancilla))\n",
    "\n",
    "\n",
    "\n",
    "compiled = transpile(circuit, sim)\n",
    "job = sim.run(compiled, shots=num_of_shots)\n",
    "result = job.result()\n",
    "counts = result.get_counts()\n",
    "most_frequent_result = max(counts.items(), key=lambda x: x[1])[0]\n",
    "print(counts)\n",
    "print(f\"Most Frequent Result: {most_frequent_result}\") #010011\n"
   ]
  },
  {
   "cell_type": "markdown",
   "id": "e2322aa4",
   "metadata": {},
   "source": [
    "## Vizualization of Results"
   ]
  },
  {
   "cell_type": "code",
   "execution_count": null,
   "id": "7bba0000",
   "metadata": {},
   "outputs": [],
   "source": [
    "# Compute the execution time and the Gate Count.\n",
    "\n",
    "computeTime(theta, initial_state, logical_encodings=[\"Single Qubit\", \"Double Qubit\"], trials=10)\n",
    "computeGateCount(theta, initial_state, logical_encodings=[\"Single Qubit\", \"Double Qubit\", \"Steane\"])"
   ]
  },
  {
   "cell_type": "code",
   "execution_count": null,
   "id": "7cb69bca-faae-485e-8a02-f07b2369b446",
   "metadata": {},
   "outputs": [],
   "source": [
    "# Visualize the Hamiltonian circuit\n",
    "\n",
    "vizualizeCircuit(hamiltonianBuilder.build())"
   ]
  },
  {
   "cell_type": "markdown",
   "id": "1397d892-d48a-4af3-89a4-bb3e83e4dc4f",
   "metadata": {},
   "source": [
    "### Ground State Energy"
   ]
  },
  {
   "cell_type": "code",
   "execution_count": null,
   "id": "3d5c47cf",
   "metadata": {},
   "outputs": [],
   "source": [
    "# Compute Ground State Graph\n",
    "# !!! Requires openfermionpyscf, which is not available on windows.\n",
    "# !!! To make this available, uncomment the #generateTheta in the import statements for this Jupyter Notebook\n",
    "# !!! and uncomment the method in the util.py file found in this directory.\n",
    "\n",
    "enery_Kolos_upper = np.array([-1.12453881, -1.16493435, - 1.17234623, -1.17445199, -1.17447477, -1.17447498, -1.17446041 , -1.17285408, -1.16858212, -1.15506752, -1.13813155, -1.12013035, -1.10242011, -1.08578740, -1.07067758, -1.05731738, -1.04578647])\n",
    "\n",
    "enery_Kolos_lower = np.array([-1.12453864, -1.16493411, -1.17234596, -1.17445199, -1.17447477, -1.17447466, -1.17446041 , -1.17285370, -1.16858164, -1.15506694, - 1.13813078, -1.12012903, -1.10241799, -1.08578400, -1.07067254, -1.05730948, -1.04577476])\n",
    "\n",
    "enery_Kolos_mean = enery_Kolos_upper + enery_Kolos_lower\n",
    "enery_Kolos_mean = enery_Kolos_mean/2\n",
    "\n",
    "\n",
    "bond_lengths = np.array([1.0, 1.2, 1.3, 1.39, 1.4, 1.4011, 1.41, 1.5, 1.6, 1.8, 2.0, 2.2, 2.4, 2.6, 2.8, 3.0, 3.2])/2\n",
    "energy_array = []\n",
    "time = 1\n",
    "for length in bond_lengths:\n",
    "    theta, nuclear_repulsion_energy = generateThetas(length, time)\n",
    "    hamiltonianBuilder = generateHamiltonian(theta, getBuilderByType(builderType))\n",
    "    totalBuilder =  generatePhaseEstimation(num_of_QPE_ancilla, hamiltonianBuilder.getPhysicalNumber(), dt, hamiltonianBuilder.build(), initial_state)\n",
    "    circuit = totalBuilder.build()\n",
    "    # Measure the ancilla qubits\n",
    "    circuit.measure(range(num_of_QPE_ancilla), range(num_of_QPE_ancilla))\n",
    "    compiled = transpile(circuit, sim)\n",
    "    job = sim.run(compiled, shots=num_of_shots)\n",
    "    result = job.result()\n",
    "    counts = result.get_counts()\n",
    "    most_frequent_result = max(counts.items(), key=lambda x: x[1])[0]\n",
    "    phase_decimal = int(most_frequent_result, 2) / (2 ** num_of_QPE_ancilla)\n",
    "    energy = - phase_decimal * 2 * np.pi / time\n",
    "    energy += nuclear_repulsion_energy\n",
    "    print(f\"Ground state energy at length {length}: {energy}\") \n",
    "    energy_array.append(energy)"
   ]
  },
  {
   "cell_type": "code",
   "execution_count": null,
   "id": "b4ce901d",
   "metadata": {},
   "outputs": [],
   "source": [
    "\n",
    "plt.scatter(bond_lengths, energy_array, marker=\"o\", label=\"This Study\")\n",
    "plt.scatter(bond_lengths, enery_Kolos_mean, marker = \"D\", label = \"Kolos et al.\")\n",
    "plt.xlabel('Bond length [$\\mathrm{\\AA}$]')\n",
    "plt.ylabel('Ground state energy [Hartree]')\n",
    "plt.title('Ground State Energy Levels of Hydrogen Molecule System \\nat Different Bond Lengths')\n",
    "plt.legend()\n",
    "plt.savefig('../groundEnergy2Spin.png')"
   ]
  },
  {
   "cell_type": "code",
   "execution_count": null,
   "id": "f2dfd6ad",
   "metadata": {},
   "outputs": [],
   "source": [
    "abs_diff = np.average(np.abs(energy_array - enery_Kolos_mean)) #Average absolute difference\n",
    "print(\"Average absolute difference : \", abs_diff)\n",
    "percentage_error = np.average(np.abs(np.divide(energy_array - enery_Kolos_mean, enery_Kolos_mean))) * 100\n",
    "print(\"Percentage Error : \", percentage_error)"
   ]
  },
  {
   "cell_type": "markdown",
   "id": "1cc44d29-ef70-4b8e-b7d4-c2f9c74d8c95",
   "metadata": {},
   "source": [
    "### H2 Hamiltonian Circuit Fidelity with Logical Qubits"
   ]
  },
  {
   "cell_type": "code",
   "execution_count": null,
   "id": "fd697d93-8ed6-4e54-9c34-3b0204e0c1c5",
   "metadata": {},
   "outputs": [],
   "source": [
    "# Reproduces the Plot from the Report (The function might take a few minutes to execute).\n",
    "\n",
    "vizualizeFidelity(theta, initial_state, prob_samples= 100, model_samples = 20, logical_encodings = [\"Single Qubit\", \"Double Qubit\"])"
   ]
  },
  {
   "cell_type": "markdown",
   "id": "8eda5bb9-b80e-44b1-86a6-dbbd2843e5d2",
   "metadata": {},
   "source": [
    "### Error Rate Detection for 2-Qubit Repetition Code"
   ]
  },
  {
   "cell_type": "code",
   "execution_count": null,
   "id": "b82749b2",
   "metadata": {},
   "outputs": [],
   "source": [
    "# Reproduces the Plot from the Report. (The function might take a few minutes to execute).\n",
    "\n",
    "vizualizeErrorRate(theta, initial_state, prob_samples= 100,  model_samples = 100, shots=100, logical_encoding = \"Double Qubit\")"
   ]
  },
  {
   "cell_type": "markdown",
   "id": "053202d6-1a21-4aa0-a83c-c6c10fd2d53d",
   "metadata": {},
   "source": [
    "## "
   ]
  }
 ],
 "metadata": {
  "kernelspec": {
   "display_name": "Python 3",
   "language": "python",
   "name": "python3"
  },
  "language_info": {
   "codemirror_mode": {
    "name": "ipython",
    "version": 3
   },
   "file_extension": ".py",
   "mimetype": "text/x-python",
   "name": "python",
   "nbconvert_exporter": "python",
   "pygments_lexer": "ipython3",
   "version": "3.13.1"
  }
 },
 "nbformat": 4,
 "nbformat_minor": 5
}
