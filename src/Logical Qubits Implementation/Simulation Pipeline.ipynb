{
 "cells": [
  {
   "cell_type": "markdown",
   "id": "021f8ec5-f787-41ba-bcf2-da8b509f668d",
   "metadata": {},
   "source": [
    "# Simulation Pipeline for Hydrogen Simulation"
   ]
  },
  {
   "cell_type": "code",
   "execution_count": 1,
   "id": "efba0eb1-1741-4662-a58f-46a34df2ee52",
   "metadata": {},
   "outputs": [],
   "source": [
    "# Simulation Imports\n",
    "import numpy as np\n",
    "import matplotlib.pyplot as plt\n",
    "\n",
    "from qiskit_aer import StatevectorSimulator\n",
    "\n",
    "from qiskit.quantum_info import Operator, Statevector\n",
    "from qiskit import transpile, QuantumCircuit, QuantumRegister\n",
    "from qiskit.visualization import plot_histogram\n",
    "\n",
    "\n",
    "# Internal Imports\n",
    "from util import generateHamiltonian, getBuilderByType, generatePhaseEstimation\n"
   ]
  },
  {
   "cell_type": "markdown",
   "id": "9d583852-75c1-4d1a-9d1d-5839119930c7",
   "metadata": {},
   "source": [
    "## Simplified Run Pipeline"
   ]
  },
  {
   "cell_type": "code",
   "execution_count": 11,
   "id": "890854a0-2c79-4aa1-a615-27fbd7d8e554",
   "metadata": {},
   "outputs": [
    {
     "name": "stdout",
     "output_type": "stream",
     "text": [
      "[-1.5960928412985012, 0.3554257493027984, 0.34119476657602105, -0.4854856102628099, 0.3554257493027984, 0.24586610112367618, 0.35255281608639216, 0.0895002880307033, 0.0895002880307033, 0.3353663891543795, 0.24586610112367618, -0.4854856102628099, 0.0895002880307033, 0.0895002880307033, 0.3353663891543795]\n"
     ]
    }
   ],
   "source": [
    "# Constants\n",
    "theta = [-1.5960928412985012, 0.3554257493027984, 0.34119476657602105, -0.4854856102628099, 0.3554257493027984, 0.24586610112367618, 0.35255281608639216, 0.0895002880307033, 0.0895002880307033, 0.3353663891543795, 0.24586610112367618, -0.4854856102628099, 0.0895002880307033, 0.0895002880307033, 0.3353663891543795]\n",
    "initial_state = Statevector([0. +0.j, 1. + 0.j, 0. + 0.j, 0. + 0.j, 0. + 0.j, 0. + 0.j, 0. + 0.j,\n",
    "                                     0. + 0.j, 0. + 0.j, 0. + 0.j, 0. + 0.j, 0. + 0.j, 0. + 0.j, 0. + 0.j,\n",
    "                                     0. + 0.j, 0. + 0.j],\n",
    "                                    dims=(2, 2, 2, 2))\n",
    "builderType = \"Double Spin\" # Options: Physical, Double Spin, Steane, Heterogenous Surface\n",
    "num_of_shots = 1024\n",
    "num_of_QPE_ancilla = 6\n",
    "dt = 1\n",
    "\n",
    "sim = StatevectorSimulator()\n",
    "\n",
    "print(theta)"
   ]
  },
  {
   "cell_type": "code",
   "execution_count": 13,
   "id": "9f973e32-441e-400b-b918-3dd2b933c4e8",
   "metadata": {},
   "outputs": [],
   "source": [
    "# Build the Circuit\n",
    "\n",
    "hamiltonianBuilder = generateHamiltonian(theta, getBuilderByType(builderType))\n",
    "\n",
    "totalBuilder =  generatePhaseEstimation(num_of_QPE_ancilla, hamiltonianBuilder.getPhysicalNumber(), dt, hamiltonianBuilder, initial_state = initial_state)"
   ]
  },
  {
   "cell_type": "code",
   "execution_count": 15,
   "id": "ec28675d-34dc-4af9-a9d9-6a2cd56a4988",
   "metadata": {},
   "outputs": [],
   "source": [
    "# Run the Simulation\n",
    "circuit = totalBuilder.build()\n",
    "\n",
    "# Measure the ancilla qubits\n",
    "circuit.measure(range(num_of_QPE_ancilla), range(num_of_QPE_ancilla))\n",
    "\n",
    "compiled = transpile(circuit, sim)\n",
    "job = sim.run(compiled, shots=num_of_shots)\n",
    "result = job.result()\n",
    "\n",
    "\n"
   ]
  },
  {
   "cell_type": "code",
   "execution_count": 16,
   "id": "3a2ff13b-461b-4ecc-8468-2fab75eaf9fb",
   "metadata": {},
   "outputs": [
    {
     "name": "stdout",
     "output_type": "stream",
     "text": [
      "{'101001': 5, '001010': 1, '111111': 41, '100001': 45, '001111': 5, '111010': 1, '100110': 6, '100000': 18, '010001': 20, '100111': 21, '011101': 93, '011110': 96, '010010': 6, '000100': 5, '110011': 2, '101101': 45, '011111': 61, '001001': 2, '010000': 13, '011100': 29, '111100': 4, '001101': 23, '100100': 5, '110010': 1, '000101': 13, '101110': 33, '001110': 9, '111011': 6, '100101': 20, '100010': 1, '001011': 2, '111110': 68, '010011': 28, '101011': 15, '001100': 4, '100011': 32, '111101': 31, '011000': 11, '110001': 2, '101111': 15, '010101': 22, '011011': 33, '010111': 27, '000011': 1, '110100': 1, '101100': 10, '110111': 4, '000000': 15, '000111': 8, '110110': 2, '000001': 3, '101010': 11, '011010': 5, '101000': 6, '111001': 3, '010100': 6, '010110': 19, '001000': 2, '111000': 4, '011001': 4}\n",
      "Most Frequent Result: 011110\n",
      "Best 96\n",
      "Actual 28\n"
     ]
    }
   ],
   "source": [
    "counts = result.get_counts()\n",
    "print(counts)\n",
    "most_frequent_result = max(counts.items(), key=lambda x: x[1])[0]\n",
    "\n",
    "\n",
    "print(f\"Most Frequent Result: {most_frequent_result}\")\n",
    "print(f\"Best {counts[most_frequent_result]}\")\n",
    "print(f\"Actual {counts['010011']}\")"
   ]
  },
  {
   "cell_type": "markdown",
   "id": "7cb69bca-faae-485e-8a02-f07b2369b446",
   "metadata": {},
   "source": [
    "## Vizualization of Results"
   ]
  },
  {
   "cell_type": "markdown",
   "id": "1397d892-d48a-4af3-89a4-bb3e83e4dc4f",
   "metadata": {},
   "source": [
    "### Ground State Energy"
   ]
  },
  {
   "cell_type": "markdown",
   "id": "1cc44d29-ef70-4b8e-b7d4-c2f9c74d8c95",
   "metadata": {},
   "source": [
    "### Circuit Fidelity"
   ]
  },
  {
   "cell_type": "markdown",
   "id": "8eda5bb9-b80e-44b1-86a6-dbbd2843e5d2",
   "metadata": {},
   "source": [
    "### Statistical Invalid Codestate Detection"
   ]
  },
  {
   "cell_type": "markdown",
   "id": "b093e229-8662-4fb5-b0f1-712999d20fd5",
   "metadata": {},
   "source": [
    "### Physical Gate Counts depending on encoding / computation time"
   ]
  },
  {
   "cell_type": "code",
   "execution_count": null,
   "id": "952c7e4e-e5ec-4fc9-8044-cc9c0dc48827",
   "metadata": {},
   "outputs": [],
   "source": [
    "temp = getBuilderByType(\"steane\")(4)\n",
    "temp.initializeToLogicalGround(initial_state)\n",
    "print(temp.build())"
   ]
  },
  {
   "cell_type": "code",
   "execution_count": null,
   "id": "d1e91cfc-f1ca-40a8-b5c0-0177f4e8ac4a",
   "metadata": {},
   "outputs": [],
   "source": [
    "print(circuit)"
   ]
  },
  {
   "cell_type": "code",
   "execution_count": null,
   "id": "c1beafa9-15a0-4c5b-a034-81e1655722ac",
   "metadata": {},
   "outputs": [],
   "source": [
    "list(range(0,5,-1))"
   ]
  },
  {
   "cell_type": "code",
   "execution_count": null,
   "id": "3e1b61b4-a478-4d44-9b76-ac0bde55ecd9",
   "metadata": {},
   "outputs": [],
   "source": []
  }
 ],
 "metadata": {
  "kernelspec": {
   "display_name": "Python [conda env:base] *",
   "language": "python",
   "name": "conda-base-py"
  },
  "language_info": {
   "codemirror_mode": {
    "name": "ipython",
    "version": 3
   },
   "file_extension": ".py",
   "mimetype": "text/x-python",
   "name": "python",
   "nbconvert_exporter": "python",
   "pygments_lexer": "ipython3",
   "version": "3.12.7"
  }
 },
 "nbformat": 4,
 "nbformat_minor": 5
}
